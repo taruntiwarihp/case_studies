{
  "cells": [
    {
      "cell_type": "markdown",
      "metadata": {
        "id": "rhR-ZUkwJrFn"
      },
      "source": [
        "## Problem Statement \n",
        "\n",
        "You need to build a model that is able to classify customer complaints based on the products/services. By doing so, you can segregate these tickets into their relevant categories and, therefore, help in the quick resolution of the issue.\n",
        "\n",
        "You will be doing topic modelling on the <b>.json</b> data provided by the company. Since this data is not labelled, you need to apply NMF to analyse patterns and classify tickets into the following five clusters based on their products/services:\n",
        "\n",
        "* Credit card / Prepaid card\n",
        "\n",
        "* Bank account services\n",
        "\n",
        "* Theft/Dispute reporting\n",
        "\n",
        "* Mortgages/loans\n",
        "\n",
        "* Others \n",
        "\n",
        "\n",
        "With the help of topic modelling, you will be able to map each ticket onto its respective department/category. You can then use this data to train any supervised model such as logistic regression, decision tree or random forest. Using this trained model, you can classify any new customer complaint support ticket into its relevant department."
      ]
    },
    {
      "cell_type": "code",
      "source": [
        "from google.colab import drive\n",
        "drive.mount('/content/drive')"
      ],
      "metadata": {
        "colab": {
          "base_uri": "https://localhost:8080/"
        },
        "id": "UB5pSJLVhERm",
        "outputId": "7ce2ad93-5b48-43ec-9a06-a18fb65bcbd5"
      },
      "execution_count": 1,
      "outputs": [
        {
          "output_type": "stream",
          "name": "stdout",
          "text": [
            "Mounted at /content/drive\n"
          ]
        }
      ]
    },
    {
      "cell_type": "markdown",
      "metadata": {
        "id": "mcgXVNyaLUFS"
      },
      "source": [
        "## Pipelines that needs to be performed:\n",
        "\n",
        "You need to perform the following eight major tasks to complete the assignment:\n",
        "\n",
        "1.  Data loading\n",
        "\n",
        "2. Text preprocessing\n",
        "\n",
        "3. Exploratory data analysis (EDA)\n",
        "\n",
        "4. Feature extraction\n",
        "\n",
        "5. Topic modelling \n",
        "\n",
        "6. Model building using supervised learning\n",
        "\n",
        "7. Model training and evaluation\n",
        "\n",
        "8. Model inference"
      ]
    },
    {
      "cell_type": "markdown",
      "metadata": {
        "id": "JuLFIymAL58u"
      },
      "source": [
        "## Importing the necessary libraries"
      ]
    },
    {
      "cell_type": "code",
      "execution_count": 2,
      "metadata": {
        "id": "O-Q9pqrcJrFr",
        "colab": {
          "base_uri": "https://localhost:8080/"
        },
        "outputId": "264cd44c-7b84-4452-a04b-2cf3c74c95bf"
      },
      "outputs": [
        {
          "output_type": "stream",
          "name": "stderr",
          "text": [
            "/usr/local/lib/python3.8/dist-packages/torch/cuda/__init__.py:497: UserWarning: Can't initialize NVML\n",
            "  warnings.warn(\"Can't initialize NVML\")\n"
          ]
        }
      ],
      "source": [
        "import json \n",
        "import numpy as np\n",
        "import pandas as pd\n",
        "import re, nltk, spacy, string\n",
        "import en_core_web_sm\n",
        "nlp = en_core_web_sm.load()\n",
        "import seaborn as sns\n",
        "import matplotlib.pyplot as plt\n",
        "%matplotlib inline\n",
        "\n",
        "from plotly.offline import plot\n",
        "import plotly.graph_objects as go\n",
        "import plotly.express as px\n",
        "\n",
        "from textblob import TextBlob\n",
        "import nltk\n",
        "import pickle\n",
        "from sklearn.feature_extraction.text import CountVectorizer, TfidfVectorizer\n",
        "from pprint import pprint\n",
        "from sklearn.feature_extraction.text import CountVectorizer, TfidfVectorizer, TfidfTransformer\n",
        "from sklearn.model_selection import train_test_split, cross_val_score\n",
        "from sklearn.model_selection import RandomizedSearchCV, GridSearchCV\n",
        "from sklearn.metrics import confusion_matrix, classification_report\n",
        "from sklearn.metrics import precision_score, recall_score, f1_score\n",
        "from sklearn.metrics import plot_roc_curve\n",
        "from pprint import pprint\n",
        "\n",
        "from wordcloud import WordCloud, STOPWORDS, ImageColorGenerator"
      ]
    },
    {
      "cell_type": "code",
      "source": [
        "import nltk\n",
        "nltk.download('punkt')\n",
        "nltk.download('averaged_perceptron_tagger')"
      ],
      "metadata": {
        "colab": {
          "base_uri": "https://localhost:8080/"
        },
        "id": "mzjzkxWll8jH",
        "outputId": "c8978435-ef3c-4d5b-e483-cf764e6e3e13"
      },
      "execution_count": 3,
      "outputs": [
        {
          "output_type": "stream",
          "name": "stderr",
          "text": [
            "[nltk_data] Downloading package punkt to /root/nltk_data...\n",
            "[nltk_data]   Unzipping tokenizers/punkt.zip.\n",
            "[nltk_data] Downloading package averaged_perceptron_tagger to\n",
            "[nltk_data]     /root/nltk_data...\n",
            "[nltk_data]   Unzipping taggers/averaged_perceptron_tagger.zip.\n"
          ]
        },
        {
          "output_type": "execute_result",
          "data": {
            "text/plain": [
              "True"
            ]
          },
          "metadata": {},
          "execution_count": 3
        }
      ]
    },
    {
      "cell_type": "markdown",
      "metadata": {
        "id": "KtRLCsNVJrFt"
      },
      "source": [
        "## Loading the data\n",
        "\n",
        "The data is in JSON format and we need to convert it to a dataframe."
      ]
    },
    {
      "cell_type": "code",
      "execution_count": 4,
      "metadata": {
        "id": "puVzIf_iJrFt"
      },
      "outputs": [],
      "source": [
        "# Opening JSON file \n",
        "f = open(\"/content/drive/MyDrive/complaints-2021-05-14_08_16.json\")\n",
        "  \n",
        "# returns JSON object as  \n",
        "# a dictionary \n",
        "data = json.load(f)\n",
        "df=pd.json_normalize(data)"
      ]
    },
    {
      "cell_type": "markdown",
      "metadata": {
        "id": "_xYpH-sAJrFu"
      },
      "source": [
        "## Data preparation"
      ]
    },
    {
      "cell_type": "code",
      "execution_count": 5,
      "metadata": {
        "id": "Lf8ufHH5JrFu",
        "colab": {
          "base_uri": "https://localhost:8080/"
        },
        "outputId": "2b85412f-a2b7-47d9-ac60-6f631bbb3538"
      },
      "outputs": [
        {
          "output_type": "stream",
          "name": "stdout",
          "text": [
            "<class 'pandas.core.frame.DataFrame'>\n",
            "RangeIndex: 78313 entries, 0 to 78312\n",
            "Data columns (total 22 columns):\n",
            " #   Column                             Non-Null Count  Dtype  \n",
            "---  ------                             --------------  -----  \n",
            " 0   _index                             78313 non-null  object \n",
            " 1   _type                              78313 non-null  object \n",
            " 2   _id                                78313 non-null  object \n",
            " 3   _score                             78313 non-null  float64\n",
            " 4   _source.tags                       10900 non-null  object \n",
            " 5   _source.zip_code                   71556 non-null  object \n",
            " 6   _source.complaint_id               78313 non-null  object \n",
            " 7   _source.issue                      78313 non-null  object \n",
            " 8   _source.date_received              78313 non-null  object \n",
            " 9   _source.state                      76322 non-null  object \n",
            " 10  _source.consumer_disputed          78313 non-null  object \n",
            " 11  _source.product                    78313 non-null  object \n",
            " 12  _source.company_response           78313 non-null  object \n",
            " 13  _source.company                    78313 non-null  object \n",
            " 14  _source.submitted_via              78313 non-null  object \n",
            " 15  _source.date_sent_to_company       78313 non-null  object \n",
            " 16  _source.company_public_response    4 non-null      object \n",
            " 17  _source.sub_product                67742 non-null  object \n",
            " 18  _source.timely                     78313 non-null  object \n",
            " 19  _source.complaint_what_happened    78313 non-null  object \n",
            " 20  _source.sub_issue                  32016 non-null  object \n",
            " 21  _source.consumer_consent_provided  77305 non-null  object \n",
            "dtypes: float64(1), object(21)\n",
            "memory usage: 13.1+ MB\n"
          ]
        }
      ],
      "source": [
        "# Inspect the dataframe to understand the given data.\n",
        "df.info()\n"
      ]
    },
    {
      "cell_type": "code",
      "execution_count": 6,
      "metadata": {
        "id": "Dwcty-wmJrFw",
        "colab": {
          "base_uri": "https://localhost:8080/"
        },
        "outputId": "a459bbfc-6225-48bc-8b62-f323b775fe2e"
      },
      "outputs": [
        {
          "output_type": "stream",
          "name": "stdout",
          "text": [
            "Index(['_index', '_type', '_id', '_score', '_source.tags', '_source.zip_code',\n",
            "       '_source.complaint_id', '_source.issue', '_source.date_received',\n",
            "       '_source.state', '_source.consumer_disputed', '_source.product',\n",
            "       '_source.company_response', '_source.company', '_source.submitted_via',\n",
            "       '_source.date_sent_to_company', '_source.company_public_response',\n",
            "       '_source.sub_product', '_source.timely',\n",
            "       '_source.complaint_what_happened', '_source.sub_issue',\n",
            "       '_source.consumer_consent_provided'],\n",
            "      dtype='object')\n"
          ]
        }
      ],
      "source": [
        "#print the column names\n",
        "pprint(df.columns)"
      ]
    },
    {
      "cell_type": "code",
      "execution_count": 7,
      "metadata": {
        "id": "FYCtKXD1JrFw"
      },
      "outputs": [],
      "source": [
        "#Assign new column names\n",
        "df.columns = ['index', 'type', 'id', 'score', 'tags', 'zip_code','complaint_id', 'issue', 'date_received',\n",
        "       'state', 'consumer_disputed', 'product','company_response', 'company', 'submitted_via',\n",
        "       'date_sent_to_company', 'company_public_response','sub_product', 'timely',\n",
        "       'complaint_what_happened', 'sub_issue','consumer_consent_provided']"
      ]
    },
    {
      "cell_type": "code",
      "execution_count": 8,
      "metadata": {
        "id": "grQUPFL5JrFx",
        "colab": {
          "base_uri": "https://localhost:8080/"
        },
        "outputId": "844202ab-66b7-49e5-f7ee-34d6175577f9"
      },
      "outputs": [
        {
          "output_type": "execute_result",
          "data": {
            "text/plain": [
              "(78313, 22)"
            ]
          },
          "metadata": {},
          "execution_count": 8
        }
      ],
      "source": [
        "#Assign nan in place of blanks in the complaints column\n",
        "df[df.loc[:, 'complaint_what_happened'] == ''] = np.nan\n",
        "df.shape"
      ]
    },
    {
      "cell_type": "code",
      "execution_count": 9,
      "metadata": {
        "id": "Jfxd8VSmJrFy",
        "colab": {
          "base_uri": "https://localhost:8080/"
        },
        "outputId": "0264d204-e459-45fe-caaf-60003df9d464"
      },
      "outputs": [
        {
          "output_type": "execute_result",
          "data": {
            "text/plain": [
              "(21072, 22)"
            ]
          },
          "metadata": {},
          "execution_count": 9
        }
      ],
      "source": [
        "#Remove all rows where complaints column is nan\n",
        "df = df[~df['complaint_what_happened'].isnull()]\n",
        "df.shape"
      ]
    },
    {
      "cell_type": "markdown",
      "metadata": {
        "id": "L944HZpsJrFy"
      },
      "source": [
        "## Prepare the text for topic modeling\n",
        "\n",
        "Once you have removed all the blank complaints, you need to:\n",
        "\n",
        "* Make the text lowercase\n",
        "* Remove text in square brackets\n",
        "* Remove punctuation\n",
        "* Remove words containing numbers\n",
        "\n",
        "\n",
        "Once you have done these cleaning operations you need to perform the following:\n",
        "* Lemmatize the texts\n",
        "* Extract the POS tags of the lemmatized text and remove all the words which have tags other than NN[tag == \"NN\"].\n"
      ]
    },
    {
      "cell_type": "code",
      "execution_count": 10,
      "metadata": {
        "id": "qm7SjjSkJrFz"
      },
      "outputs": [],
      "source": [
        "# Write your function here to clean the text and remove all the unnecessary elements.\n",
        "def clean_text(sent):\n",
        "    sent = sent.lower() # Text to lowercase\n",
        "    pattern = '[^\\w\\s]' # Removing punctuation\n",
        "    sent = re.sub(pattern, '', sent) \n",
        "    pattern = '\\w*\\d\\w*' # Removing words with numbers in between\n",
        "    sent = re.sub(pattern, '', sent) \n",
        "    return sent"
      ]
    },
    {
      "cell_type": "code",
      "execution_count": 11,
      "metadata": {
        "id": "N4aYRX-pg3qc",
        "colab": {
          "base_uri": "https://localhost:8080/"
        },
        "outputId": "3a87a6cb-59dd-4219-cb0e-584ae7c564fd"
      },
      "outputs": [
        {
          "output_type": "stream",
          "name": "stderr",
          "text": [
            "<ipython-input-11-906c4c3be407>:2: SettingWithCopyWarning:\n",
            "\n",
            "\n",
            "A value is trying to be set on a copy of a slice from a DataFrame.\n",
            "Try using .loc[row_indexer,col_indexer] = value instead\n",
            "\n",
            "See the caveats in the documentation: https://pandas.pydata.org/pandas-docs/stable/user_guide/indexing.html#returning-a-view-versus-a-copy\n",
            "\n"
          ]
        }
      ],
      "source": [
        "# Convert complaint_what_happened column to string for performing text operations\n",
        "df['complaint_what_happened'] = df['complaint_what_happened'].astype(str)\n",
        "df_clean = pd.DataFrame(df['complaint_what_happened'].apply(clean_text))\n",
        "# df_clean.columns = ['complaint_what_happened']"
      ]
    },
    {
      "cell_type": "code",
      "execution_count": 12,
      "metadata": {
        "id": "zgOu8t8HJrFz"
      },
      "outputs": [],
      "source": [
        "#Write your function to Lemmatize the texts\n",
        "def lemmmatize_text(text):\n",
        "    sent = []\n",
        "    doc = nlp(text)\n",
        "    for token in doc:\n",
        "        sent.append(token.lemma_)\n",
        "    return \" \".join(sent)"
      ]
    },
    {
      "cell_type": "code",
      "execution_count": 13,
      "metadata": {
        "id": "uXnN7aa_JrF0"
      },
      "outputs": [],
      "source": [
        "#Create a dataframe('df_clean') that will have only the complaints and the lemmatized complaints \n",
        "df_clean['complaint_lemmatized'] = df_clean['complaint_what_happened'].apply(lemmmatize_text)"
      ]
    },
    {
      "cell_type": "code",
      "execution_count": 14,
      "metadata": {
        "id": "nOiDVvEIJrF0",
        "colab": {
          "base_uri": "https://localhost:8080/",
          "height": 424
        },
        "outputId": "912570e5-06fb-48e1-84cb-83a6c0cbd078"
      },
      "outputs": [
        {
          "output_type": "execute_result",
          "data": {
            "text/plain": [
              "                                 complaint_what_happened  \\\n",
              "1      good morning my name is xxxx xxxx and i apprec...   \n",
              "2      i upgraded my xxxx xxxx card in  and was told ...   \n",
              "10     chase card was reported on  however fraudulent...   \n",
              "11     on  while trying to book a xxxx  xxxx  ticket ...   \n",
              "14     my grand son give me check for  i deposit it i...   \n",
              "...                                                  ...   \n",
              "78303  after being a chase card customer for well ove...   \n",
              "78309  on wednesday xxxxxxxx i called chas my xxxx xx...   \n",
              "78310  i am not familiar with xxxx pay and did not un...   \n",
              "78311  i have had flawless credit for  yrs ive had ch...   \n",
              "78312  roughly  years ago i closed out my accounts wi...   \n",
              "\n",
              "                                    complaint_lemmatized  \n",
              "1      good morning my name be xxxx xxxx and I apprec...  \n",
              "2      I upgrade my xxxx xxxx card in   and be tell b...  \n",
              "10     chase card be report on   however fraudulent a...  \n",
              "11     on   while try to book a xxxx   xxxx   ticket ...  \n",
              "14     my grand son give I check for   I deposit it i...  \n",
              "...                                                  ...  \n",
              "78303  after be a chase card customer for well over a...  \n",
              "78309  on wednesday xxxxxxxx I call chas my xxxx xxxx...  \n",
              "78310  I be not familiar with xxxx pay and do not und...  \n",
              "78311  I have have flawless credit for   yr I ve have...  \n",
              "78312  roughly   year ago I close out my account with...  \n",
              "\n",
              "[21072 rows x 2 columns]"
            ],
            "text/html": [
              "\n",
              "  <div id=\"df-621305b8-6355-44d1-abe9-348c195ddd18\">\n",
              "    <div class=\"colab-df-container\">\n",
              "      <div>\n",
              "<style scoped>\n",
              "    .dataframe tbody tr th:only-of-type {\n",
              "        vertical-align: middle;\n",
              "    }\n",
              "\n",
              "    .dataframe tbody tr th {\n",
              "        vertical-align: top;\n",
              "    }\n",
              "\n",
              "    .dataframe thead th {\n",
              "        text-align: right;\n",
              "    }\n",
              "</style>\n",
              "<table border=\"1\" class=\"dataframe\">\n",
              "  <thead>\n",
              "    <tr style=\"text-align: right;\">\n",
              "      <th></th>\n",
              "      <th>complaint_what_happened</th>\n",
              "      <th>complaint_lemmatized</th>\n",
              "    </tr>\n",
              "  </thead>\n",
              "  <tbody>\n",
              "    <tr>\n",
              "      <th>1</th>\n",
              "      <td>good morning my name is xxxx xxxx and i apprec...</td>\n",
              "      <td>good morning my name be xxxx xxxx and I apprec...</td>\n",
              "    </tr>\n",
              "    <tr>\n",
              "      <th>2</th>\n",
              "      <td>i upgraded my xxxx xxxx card in  and was told ...</td>\n",
              "      <td>I upgrade my xxxx xxxx card in   and be tell b...</td>\n",
              "    </tr>\n",
              "    <tr>\n",
              "      <th>10</th>\n",
              "      <td>chase card was reported on  however fraudulent...</td>\n",
              "      <td>chase card be report on   however fraudulent a...</td>\n",
              "    </tr>\n",
              "    <tr>\n",
              "      <th>11</th>\n",
              "      <td>on  while trying to book a xxxx  xxxx  ticket ...</td>\n",
              "      <td>on   while try to book a xxxx   xxxx   ticket ...</td>\n",
              "    </tr>\n",
              "    <tr>\n",
              "      <th>14</th>\n",
              "      <td>my grand son give me check for  i deposit it i...</td>\n",
              "      <td>my grand son give I check for   I deposit it i...</td>\n",
              "    </tr>\n",
              "    <tr>\n",
              "      <th>...</th>\n",
              "      <td>...</td>\n",
              "      <td>...</td>\n",
              "    </tr>\n",
              "    <tr>\n",
              "      <th>78303</th>\n",
              "      <td>after being a chase card customer for well ove...</td>\n",
              "      <td>after be a chase card customer for well over a...</td>\n",
              "    </tr>\n",
              "    <tr>\n",
              "      <th>78309</th>\n",
              "      <td>on wednesday xxxxxxxx i called chas my xxxx xx...</td>\n",
              "      <td>on wednesday xxxxxxxx I call chas my xxxx xxxx...</td>\n",
              "    </tr>\n",
              "    <tr>\n",
              "      <th>78310</th>\n",
              "      <td>i am not familiar with xxxx pay and did not un...</td>\n",
              "      <td>I be not familiar with xxxx pay and do not und...</td>\n",
              "    </tr>\n",
              "    <tr>\n",
              "      <th>78311</th>\n",
              "      <td>i have had flawless credit for  yrs ive had ch...</td>\n",
              "      <td>I have have flawless credit for   yr I ve have...</td>\n",
              "    </tr>\n",
              "    <tr>\n",
              "      <th>78312</th>\n",
              "      <td>roughly  years ago i closed out my accounts wi...</td>\n",
              "      <td>roughly   year ago I close out my account with...</td>\n",
              "    </tr>\n",
              "  </tbody>\n",
              "</table>\n",
              "<p>21072 rows × 2 columns</p>\n",
              "</div>\n",
              "      <button class=\"colab-df-convert\" onclick=\"convertToInteractive('df-621305b8-6355-44d1-abe9-348c195ddd18')\"\n",
              "              title=\"Convert this dataframe to an interactive table.\"\n",
              "              style=\"display:none;\">\n",
              "        \n",
              "  <svg xmlns=\"http://www.w3.org/2000/svg\" height=\"24px\"viewBox=\"0 0 24 24\"\n",
              "       width=\"24px\">\n",
              "    <path d=\"M0 0h24v24H0V0z\" fill=\"none\"/>\n",
              "    <path d=\"M18.56 5.44l.94 2.06.94-2.06 2.06-.94-2.06-.94-.94-2.06-.94 2.06-2.06.94zm-11 1L8.5 8.5l.94-2.06 2.06-.94-2.06-.94L8.5 2.5l-.94 2.06-2.06.94zm10 10l.94 2.06.94-2.06 2.06-.94-2.06-.94-.94-2.06-.94 2.06-2.06.94z\"/><path d=\"M17.41 7.96l-1.37-1.37c-.4-.4-.92-.59-1.43-.59-.52 0-1.04.2-1.43.59L10.3 9.45l-7.72 7.72c-.78.78-.78 2.05 0 2.83L4 21.41c.39.39.9.59 1.41.59.51 0 1.02-.2 1.41-.59l7.78-7.78 2.81-2.81c.8-.78.8-2.07 0-2.86zM5.41 20L4 18.59l7.72-7.72 1.47 1.35L5.41 20z\"/>\n",
              "  </svg>\n",
              "      </button>\n",
              "      \n",
              "  <style>\n",
              "    .colab-df-container {\n",
              "      display:flex;\n",
              "      flex-wrap:wrap;\n",
              "      gap: 12px;\n",
              "    }\n",
              "\n",
              "    .colab-df-convert {\n",
              "      background-color: #E8F0FE;\n",
              "      border: none;\n",
              "      border-radius: 50%;\n",
              "      cursor: pointer;\n",
              "      display: none;\n",
              "      fill: #1967D2;\n",
              "      height: 32px;\n",
              "      padding: 0 0 0 0;\n",
              "      width: 32px;\n",
              "    }\n",
              "\n",
              "    .colab-df-convert:hover {\n",
              "      background-color: #E2EBFA;\n",
              "      box-shadow: 0px 1px 2px rgba(60, 64, 67, 0.3), 0px 1px 3px 1px rgba(60, 64, 67, 0.15);\n",
              "      fill: #174EA6;\n",
              "    }\n",
              "\n",
              "    [theme=dark] .colab-df-convert {\n",
              "      background-color: #3B4455;\n",
              "      fill: #D2E3FC;\n",
              "    }\n",
              "\n",
              "    [theme=dark] .colab-df-convert:hover {\n",
              "      background-color: #434B5C;\n",
              "      box-shadow: 0px 1px 3px 1px rgba(0, 0, 0, 0.15);\n",
              "      filter: drop-shadow(0px 1px 2px rgba(0, 0, 0, 0.3));\n",
              "      fill: #FFFFFF;\n",
              "    }\n",
              "  </style>\n",
              "\n",
              "      <script>\n",
              "        const buttonEl =\n",
              "          document.querySelector('#df-621305b8-6355-44d1-abe9-348c195ddd18 button.colab-df-convert');\n",
              "        buttonEl.style.display =\n",
              "          google.colab.kernel.accessAllowed ? 'block' : 'none';\n",
              "\n",
              "        async function convertToInteractive(key) {\n",
              "          const element = document.querySelector('#df-621305b8-6355-44d1-abe9-348c195ddd18');\n",
              "          const dataTable =\n",
              "            await google.colab.kernel.invokeFunction('convertToInteractive',\n",
              "                                                     [key], {});\n",
              "          if (!dataTable) return;\n",
              "\n",
              "          const docLinkHtml = 'Like what you see? Visit the ' +\n",
              "            '<a target=\"_blank\" href=https://colab.research.google.com/notebooks/data_table.ipynb>data table notebook</a>'\n",
              "            + ' to learn more about interactive tables.';\n",
              "          element.innerHTML = '';\n",
              "          dataTable['output_type'] = 'display_data';\n",
              "          await google.colab.output.renderOutput(dataTable, element);\n",
              "          const docLink = document.createElement('div');\n",
              "          docLink.innerHTML = docLinkHtml;\n",
              "          element.appendChild(docLink);\n",
              "        }\n",
              "      </script>\n",
              "    </div>\n",
              "  </div>\n",
              "  "
            ]
          },
          "metadata": {},
          "execution_count": 14
        }
      ],
      "source": [
        "df_clean"
      ]
    },
    {
      "cell_type": "code",
      "execution_count": 15,
      "metadata": {
        "id": "Kk7fc4DuJrF1"
      },
      "outputs": [],
      "source": [
        "#Write your function to extract the POS tags \n",
        "\n",
        "def pos_tag(text):\n",
        "    sent = []\n",
        "    blob = TextBlob(text)\n",
        "    sent = [word for (word,tag) in blob.tags if tag=='NN']\n",
        "    return \" \".join(sent)\n",
        "\n",
        "df_clean[\"complaint_POS_removed\"] =  df_clean['complaint_lemmatized'].apply(pos_tag)"
      ]
    },
    {
      "cell_type": "code",
      "execution_count": 16,
      "metadata": {
        "id": "AjxfchvFJrF2",
        "colab": {
          "base_uri": "https://localhost:8080/",
          "height": 424
        },
        "outputId": "e50779a1-9971-4717-ecc3-f36fccd6acd2"
      },
      "outputs": [
        {
          "output_type": "execute_result",
          "data": {
            "text/plain": [
              "                                 complaint_what_happened  \\\n",
              "1      good morning my name is xxxx xxxx and i apprec...   \n",
              "2      i upgraded my xxxx xxxx card in  and was told ...   \n",
              "10     chase card was reported on  however fraudulent...   \n",
              "11     on  while trying to book a xxxx  xxxx  ticket ...   \n",
              "14     my grand son give me check for  i deposit it i...   \n",
              "...                                                  ...   \n",
              "78303  after being a chase card customer for well ove...   \n",
              "78309  on wednesday xxxxxxxx i called chas my xxxx xx...   \n",
              "78310  i am not familiar with xxxx pay and did not un...   \n",
              "78311  i have had flawless credit for  yrs ive had ch...   \n",
              "78312  roughly  years ago i closed out my accounts wi...   \n",
              "\n",
              "                                    complaint_lemmatized  \\\n",
              "1      good morning my name be xxxx xxxx and I apprec...   \n",
              "2      I upgrade my xxxx xxxx card in   and be tell b...   \n",
              "10     chase card be report on   however fraudulent a...   \n",
              "11     on   while try to book a xxxx   xxxx   ticket ...   \n",
              "14     my grand son give I check for   I deposit it i...   \n",
              "...                                                  ...   \n",
              "78303  after be a chase card customer for well over a...   \n",
              "78309  on wednesday xxxxxxxx I call chas my xxxx xxxx...   \n",
              "78310  I be not familiar with xxxx pay and do not und...   \n",
              "78311  I have have flawless credit for   yr I ve have...   \n",
              "78312  roughly   year ago I close out my account with...   \n",
              "\n",
              "                                   complaint_POS_removed  \n",
              "1      morning name stop bank cardmember service ask ...  \n",
              "2      card agent upgrade date agent information orde...  \n",
              "10     card report application identity consent servi...  \n",
              "11     try book xxxx ticket offer ticket card informa...  \n",
              "14     son chase account fund bank account pay money ...  \n",
              "...                                                  ...  \n",
              "78303  card customer decade solicitation credit card ...  \n",
              "78309  visa credit card provider claim purchase prote...  \n",
              "78310  pay risk provide consumer bank app chase year ...  \n",
              "78311  credit yr credit card chase freedom xxxx probl...  \n",
              "78312  year account jp bank xxxx order line credit ac...  \n",
              "\n",
              "[21072 rows x 3 columns]"
            ],
            "text/html": [
              "\n",
              "  <div id=\"df-5383c1f0-c862-4e23-ad6d-9da8ef0386f4\">\n",
              "    <div class=\"colab-df-container\">\n",
              "      <div>\n",
              "<style scoped>\n",
              "    .dataframe tbody tr th:only-of-type {\n",
              "        vertical-align: middle;\n",
              "    }\n",
              "\n",
              "    .dataframe tbody tr th {\n",
              "        vertical-align: top;\n",
              "    }\n",
              "\n",
              "    .dataframe thead th {\n",
              "        text-align: right;\n",
              "    }\n",
              "</style>\n",
              "<table border=\"1\" class=\"dataframe\">\n",
              "  <thead>\n",
              "    <tr style=\"text-align: right;\">\n",
              "      <th></th>\n",
              "      <th>complaint_what_happened</th>\n",
              "      <th>complaint_lemmatized</th>\n",
              "      <th>complaint_POS_removed</th>\n",
              "    </tr>\n",
              "  </thead>\n",
              "  <tbody>\n",
              "    <tr>\n",
              "      <th>1</th>\n",
              "      <td>good morning my name is xxxx xxxx and i apprec...</td>\n",
              "      <td>good morning my name be xxxx xxxx and I apprec...</td>\n",
              "      <td>morning name stop bank cardmember service ask ...</td>\n",
              "    </tr>\n",
              "    <tr>\n",
              "      <th>2</th>\n",
              "      <td>i upgraded my xxxx xxxx card in  and was told ...</td>\n",
              "      <td>I upgrade my xxxx xxxx card in   and be tell b...</td>\n",
              "      <td>card agent upgrade date agent information orde...</td>\n",
              "    </tr>\n",
              "    <tr>\n",
              "      <th>10</th>\n",
              "      <td>chase card was reported on  however fraudulent...</td>\n",
              "      <td>chase card be report on   however fraudulent a...</td>\n",
              "      <td>card report application identity consent servi...</td>\n",
              "    </tr>\n",
              "    <tr>\n",
              "      <th>11</th>\n",
              "      <td>on  while trying to book a xxxx  xxxx  ticket ...</td>\n",
              "      <td>on   while try to book a xxxx   xxxx   ticket ...</td>\n",
              "      <td>try book xxxx ticket offer ticket card informa...</td>\n",
              "    </tr>\n",
              "    <tr>\n",
              "      <th>14</th>\n",
              "      <td>my grand son give me check for  i deposit it i...</td>\n",
              "      <td>my grand son give I check for   I deposit it i...</td>\n",
              "      <td>son chase account fund bank account pay money ...</td>\n",
              "    </tr>\n",
              "    <tr>\n",
              "      <th>...</th>\n",
              "      <td>...</td>\n",
              "      <td>...</td>\n",
              "      <td>...</td>\n",
              "    </tr>\n",
              "    <tr>\n",
              "      <th>78303</th>\n",
              "      <td>after being a chase card customer for well ove...</td>\n",
              "      <td>after be a chase card customer for well over a...</td>\n",
              "      <td>card customer decade solicitation credit card ...</td>\n",
              "    </tr>\n",
              "    <tr>\n",
              "      <th>78309</th>\n",
              "      <td>on wednesday xxxxxxxx i called chas my xxxx xx...</td>\n",
              "      <td>on wednesday xxxxxxxx I call chas my xxxx xxxx...</td>\n",
              "      <td>visa credit card provider claim purchase prote...</td>\n",
              "    </tr>\n",
              "    <tr>\n",
              "      <th>78310</th>\n",
              "      <td>i am not familiar with xxxx pay and did not un...</td>\n",
              "      <td>I be not familiar with xxxx pay and do not und...</td>\n",
              "      <td>pay risk provide consumer bank app chase year ...</td>\n",
              "    </tr>\n",
              "    <tr>\n",
              "      <th>78311</th>\n",
              "      <td>i have had flawless credit for  yrs ive had ch...</td>\n",
              "      <td>I have have flawless credit for   yr I ve have...</td>\n",
              "      <td>credit yr credit card chase freedom xxxx probl...</td>\n",
              "    </tr>\n",
              "    <tr>\n",
              "      <th>78312</th>\n",
              "      <td>roughly  years ago i closed out my accounts wi...</td>\n",
              "      <td>roughly   year ago I close out my account with...</td>\n",
              "      <td>year account jp bank xxxx order line credit ac...</td>\n",
              "    </tr>\n",
              "  </tbody>\n",
              "</table>\n",
              "<p>21072 rows × 3 columns</p>\n",
              "</div>\n",
              "      <button class=\"colab-df-convert\" onclick=\"convertToInteractive('df-5383c1f0-c862-4e23-ad6d-9da8ef0386f4')\"\n",
              "              title=\"Convert this dataframe to an interactive table.\"\n",
              "              style=\"display:none;\">\n",
              "        \n",
              "  <svg xmlns=\"http://www.w3.org/2000/svg\" height=\"24px\"viewBox=\"0 0 24 24\"\n",
              "       width=\"24px\">\n",
              "    <path d=\"M0 0h24v24H0V0z\" fill=\"none\"/>\n",
              "    <path d=\"M18.56 5.44l.94 2.06.94-2.06 2.06-.94-2.06-.94-.94-2.06-.94 2.06-2.06.94zm-11 1L8.5 8.5l.94-2.06 2.06-.94-2.06-.94L8.5 2.5l-.94 2.06-2.06.94zm10 10l.94 2.06.94-2.06 2.06-.94-2.06-.94-.94-2.06-.94 2.06-2.06.94z\"/><path d=\"M17.41 7.96l-1.37-1.37c-.4-.4-.92-.59-1.43-.59-.52 0-1.04.2-1.43.59L10.3 9.45l-7.72 7.72c-.78.78-.78 2.05 0 2.83L4 21.41c.39.39.9.59 1.41.59.51 0 1.02-.2 1.41-.59l7.78-7.78 2.81-2.81c.8-.78.8-2.07 0-2.86zM5.41 20L4 18.59l7.72-7.72 1.47 1.35L5.41 20z\"/>\n",
              "  </svg>\n",
              "      </button>\n",
              "      \n",
              "  <style>\n",
              "    .colab-df-container {\n",
              "      display:flex;\n",
              "      flex-wrap:wrap;\n",
              "      gap: 12px;\n",
              "    }\n",
              "\n",
              "    .colab-df-convert {\n",
              "      background-color: #E8F0FE;\n",
              "      border: none;\n",
              "      border-radius: 50%;\n",
              "      cursor: pointer;\n",
              "      display: none;\n",
              "      fill: #1967D2;\n",
              "      height: 32px;\n",
              "      padding: 0 0 0 0;\n",
              "      width: 32px;\n",
              "    }\n",
              "\n",
              "    .colab-df-convert:hover {\n",
              "      background-color: #E2EBFA;\n",
              "      box-shadow: 0px 1px 2px rgba(60, 64, 67, 0.3), 0px 1px 3px 1px rgba(60, 64, 67, 0.15);\n",
              "      fill: #174EA6;\n",
              "    }\n",
              "\n",
              "    [theme=dark] .colab-df-convert {\n",
              "      background-color: #3B4455;\n",
              "      fill: #D2E3FC;\n",
              "    }\n",
              "\n",
              "    [theme=dark] .colab-df-convert:hover {\n",
              "      background-color: #434B5C;\n",
              "      box-shadow: 0px 1px 3px 1px rgba(0, 0, 0, 0.15);\n",
              "      filter: drop-shadow(0px 1px 2px rgba(0, 0, 0, 0.3));\n",
              "      fill: #FFFFFF;\n",
              "    }\n",
              "  </style>\n",
              "\n",
              "      <script>\n",
              "        const buttonEl =\n",
              "          document.querySelector('#df-5383c1f0-c862-4e23-ad6d-9da8ef0386f4 button.colab-df-convert');\n",
              "        buttonEl.style.display =\n",
              "          google.colab.kernel.accessAllowed ? 'block' : 'none';\n",
              "\n",
              "        async function convertToInteractive(key) {\n",
              "          const element = document.querySelector('#df-5383c1f0-c862-4e23-ad6d-9da8ef0386f4');\n",
              "          const dataTable =\n",
              "            await google.colab.kernel.invokeFunction('convertToInteractive',\n",
              "                                                     [key], {});\n",
              "          if (!dataTable) return;\n",
              "\n",
              "          const docLinkHtml = 'Like what you see? Visit the ' +\n",
              "            '<a target=\"_blank\" href=https://colab.research.google.com/notebooks/data_table.ipynb>data table notebook</a>'\n",
              "            + ' to learn more about interactive tables.';\n",
              "          element.innerHTML = '';\n",
              "          dataTable['output_type'] = 'display_data';\n",
              "          await google.colab.output.renderOutput(dataTable, element);\n",
              "          const docLink = document.createElement('div');\n",
              "          docLink.innerHTML = docLinkHtml;\n",
              "          element.appendChild(docLink);\n",
              "        }\n",
              "      </script>\n",
              "    </div>\n",
              "  </div>\n",
              "  "
            ]
          },
          "metadata": {},
          "execution_count": 16
        }
      ],
      "source": [
        "#The clean dataframe should now contain the raw complaint, lemmatized complaint and the complaint after removing POS tags.\n",
        "df_clean"
      ]
    },
    {
      "cell_type": "markdown",
      "metadata": {
        "id": "_7Un1AElJrF2"
      },
      "source": [
        "## Exploratory data analysis to get familiar with the data.\n",
        "\n",
        "Write the code in this task to perform the following:\n",
        "\n",
        "*   Visualise the data according to the 'Complaint' character length\n",
        "*   Using a word cloud find the top 40 words by frequency among all the articles after processing the text\n",
        "*   Find the top unigrams,bigrams and trigrams by frequency among all the complaints after processing the text. ‘\n",
        "\n",
        "\n"
      ]
    },
    {
      "cell_type": "code",
      "execution_count": 17,
      "metadata": {
        "id": "q-zaqJF6JrF2",
        "colab": {
          "base_uri": "https://localhost:8080/",
          "height": 399
        },
        "outputId": "6ed7e79a-db95-482d-bef2-65519f976782"
      },
      "outputs": [
        {
          "output_type": "display_data",
          "data": {
            "text/plain": [
              "<Figure size 360x360 with 1 Axes>"
            ],
            "image/png": "[encoded data removed]"
          },
          "metadata": {
            "needs_background": "light"
          }
        }
      ],
      "source": [
        "# Write your code here to visualise the data according to the 'Complaint' character length\n",
        "char_len = [len(each_sent) for each_sent in df_clean['complaint_POS_removed']]\n",
        "\n",
        "sns.displot(char_len, kind='hist', bins=60)\n",
        "plt.xlabel(\"Complaint character length\")\n",
        "plt.ylabel(\"Total number of Complaints\")\n",
        "plt.title(\"Distribution of Complaint character length\")\n",
        "plt.show()"
      ]
    },
    {
      "cell_type": "markdown",
      "metadata": {
        "id": "T9jD_6SeJrF3"
      },
      "source": [
        "#### Find the top 40 words by frequency among all the articles after processing the text."
      ]
    },
    {
      "cell_type": "code",
      "execution_count": 18,
      "metadata": {
        "id": "QcfdvtfZJrF3",
        "colab": {
          "base_uri": "https://localhost:8080/",
          "height": 366
        },
        "outputId": "9b2e4db3-8616-4965-9bae-9a9c1dcbdf22"
      },
      "outputs": [
        {
          "output_type": "display_data",
          "data": {
            "text/plain": [
              "<Figure size 864x864 with 1 Axes>"
            ],
            "image/png": "[encoded data removed]"
          },
          "metadata": {
            "needs_background": "light"
          }
        }
      ],
      "source": [
        "#Using a word cloud find the top 40 words by frequency among all the articles after processing the text\n",
        "stopwords = set(STOPWORDS)\n",
        "wordcloud = WordCloud(max_font_size=60, max_words=40, \n",
        "                      background_color=\"white\", random_state=100, \n",
        "                      stopwords=stopwords).generate(str(df_clean['complaint_POS_removed']))\n",
        "plt.figure(figsize=[12,12])\n",
        "plt.imshow(wordcloud, interpolation=\"bilinear\")\n",
        "plt.axis(\"off\")\n",
        "plt.show()"
      ]
    },
    {
      "cell_type": "code",
      "execution_count": 19,
      "metadata": {
        "id": "OkSmc3UaJrF4"
      },
      "outputs": [],
      "source": [
        "#Removing -PRON- from the text corpus\n",
        "df_clean['Complaint_clean'] = df_clean['complaint_POS_removed'].str.replace('-PRON-', '')"
      ]
    },
    {
      "cell_type": "markdown",
      "metadata": {
        "id": "5DfCSbbmJrF4"
      },
      "source": [
        "#### Find the top unigrams,bigrams and trigrams by frequency among all the complaints after processing the text."
      ]
    },
    {
      "cell_type": "code",
      "execution_count": 20,
      "metadata": {
        "id": "CwekP7sSg3qg"
      },
      "outputs": [],
      "source": [
        "# Creating a function to extract top ngrams(unigram/bigram/trigram) based on the function inputs\n",
        "def get_top_ngrams(text, n=None, ngram=(1,1)):\n",
        "  vec = CountVectorizer(stop_words='english', ngram_range=ngram).fit(text)\n",
        "  bagofwords = vec.transform(text)\n",
        "  sum_words = bagofwords.sum(axis=0)\n",
        "  words_frequency = [(word, sum_words[0, index]) for word, index in vec.vocabulary_.items()]\n",
        "  words_frequency = sorted(words_frequency, key = lambda x: x[1], reverse=True)\n",
        "  return words_frequency[:n]"
      ]
    },
    {
      "cell_type": "code",
      "execution_count": 21,
      "metadata": {
        "id": "24S4x3bFg3qg"
      },
      "outputs": [],
      "source": [
        "#Write your code here to find the top 30 unigram frequency among the complaints in the cleaned datafram(df_clean). \n",
        "top_30words = get_top_ngrams(df_clean['Complaint_clean'].values.astype('U'), n=30, ngram=(1,1))\n",
        "df_unigram = pd.DataFrame(top_30words, columns=['unigram', 'count'])\n"
      ]
    },
    {
      "cell_type": "code",
      "execution_count": 22,
      "metadata": {
        "id": "YX7fedm1JrF8",
        "colab": {
          "base_uri": "https://localhost:8080/",
          "height": 363
        },
        "outputId": "dca8d3f6-01d1-43f2-d327-7f38f45a19be"
      },
      "outputs": [
        {
          "output_type": "execute_result",
          "data": {
            "text/plain": [
              "   unigram  count\n",
              "0  account  47499\n",
              "1    chase  46704\n",
              "2     xxxx  36550\n",
              "3   credit  34138\n",
              "4     card  29290\n",
              "5     bank  28415\n",
              "6  payment  21171\n",
              "7     time  16039\n",
              "8   charge  14994\n",
              "9      day  12971"
            ],
            "text/html": [
              "\n",
              "  <div id=\"df-bd5e0608-ffab-4276-a8e3-83f87ea8211b\">\n",
              "    <div class=\"colab-df-container\">\n",
              "      <div>\n",
              "<style scoped>\n",
              "    .dataframe tbody tr th:only-of-type {\n",
              "        vertical-align: middle;\n",
              "    }\n",
              "\n",
              "    .dataframe tbody tr th {\n",
              "        vertical-align: top;\n",
              "    }\n",
              "\n",
              "    .dataframe thead th {\n",
              "        text-align: right;\n",
              "    }\n",
              "</style>\n",
              "<table border=\"1\" class=\"dataframe\">\n",
              "  <thead>\n",
              "    <tr style=\"text-align: right;\">\n",
              "      <th></th>\n",
              "      <th>unigram</th>\n",
              "      <th>count</th>\n",
              "    </tr>\n",
              "  </thead>\n",
              "  <tbody>\n",
              "    <tr>\n",
              "      <th>0</th>\n",
              "      <td>account</td>\n",
              "      <td>47499</td>\n",
              "    </tr>\n",
              "    <tr>\n",
              "      <th>1</th>\n",
              "      <td>chase</td>\n",
              "      <td>46704</td>\n",
              "    </tr>\n",
              "    <tr>\n",
              "      <th>2</th>\n",
              "      <td>xxxx</td>\n",
              "      <td>36550</td>\n",
              "    </tr>\n",
              "    <tr>\n",
              "      <th>3</th>\n",
              "      <td>credit</td>\n",
              "      <td>34138</td>\n",
              "    </tr>\n",
              "    <tr>\n",
              "      <th>4</th>\n",
              "      <td>card</td>\n",
              "      <td>29290</td>\n",
              "    </tr>\n",
              "    <tr>\n",
              "      <th>5</th>\n",
              "      <td>bank</td>\n",
              "      <td>28415</td>\n",
              "    </tr>\n",
              "    <tr>\n",
              "      <th>6</th>\n",
              "      <td>payment</td>\n",
              "      <td>21171</td>\n",
              "    </tr>\n",
              "    <tr>\n",
              "      <th>7</th>\n",
              "      <td>time</td>\n",
              "      <td>16039</td>\n",
              "    </tr>\n",
              "    <tr>\n",
              "      <th>8</th>\n",
              "      <td>charge</td>\n",
              "      <td>14994</td>\n",
              "    </tr>\n",
              "    <tr>\n",
              "      <th>9</th>\n",
              "      <td>day</td>\n",
              "      <td>12971</td>\n",
              "    </tr>\n",
              "  </tbody>\n",
              "</table>\n",
              "</div>\n",
              "      <button class=\"colab-df-convert\" onclick=\"convertToInteractive('df-bd5e0608-ffab-4276-a8e3-83f87ea8211b')\"\n",
              "              title=\"Convert this dataframe to an interactive table.\"\n",
              "              style=\"display:none;\">\n",
              "        \n",
              "  <svg xmlns=\"http://www.w3.org/2000/svg\" height=\"24px\"viewBox=\"0 0 24 24\"\n",
              "       width=\"24px\">\n",
              "    <path d=\"M0 0h24v24H0V0z\" fill=\"none\"/>\n",
              "    <path d=\"M18.56 5.44l.94 2.06.94-2.06 2.06-.94-2.06-.94-.94-2.06-.94 2.06-2.06.94zm-11 1L8.5 8.5l.94-2.06 2.06-.94-2.06-.94L8.5 2.5l-.94 2.06-2.06.94zm10 10l.94 2.06.94-2.06 2.06-.94-2.06-.94-.94-2.06-.94 2.06-2.06.94z\"/><path d=\"M17.41 7.96l-1.37-1.37c-.4-.4-.92-.59-1.43-.59-.52 0-1.04.2-1.43.59L10.3 9.45l-7.72 7.72c-.78.78-.78 2.05 0 2.83L4 21.41c.39.39.9.59 1.41.59.51 0 1.02-.2 1.41-.59l7.78-7.78 2.81-2.81c.8-.78.8-2.07 0-2.86zM5.41 20L4 18.59l7.72-7.72 1.47 1.35L5.41 20z\"/>\n",
              "  </svg>\n",
              "      </button>\n",
              "      \n",
              "  <style>\n",
              "    .colab-df-container {\n",
              "      display:flex;\n",
              "      flex-wrap:wrap;\n",
              "      gap: 12px;\n",
              "    }\n",
              "\n",
              "    .colab-df-convert {\n",
              "      background-color: #E8F0FE;\n",
              "      border: none;\n",
              "      border-radius: 50%;\n",
              "      cursor: pointer;\n",
              "      display: none;\n",
              "      fill: #1967D2;\n",
              "      height: 32px;\n",
              "      padding: 0 0 0 0;\n",
              "      width: 32px;\n",
              "    }\n",
              "\n",
              "    .colab-df-convert:hover {\n",
              "      background-color: #E2EBFA;\n",
              "      box-shadow: 0px 1px 2px rgba(60, 64, 67, 0.3), 0px 1px 3px 1px rgba(60, 64, 67, 0.15);\n",
              "      fill: #174EA6;\n",
              "    }\n",
              "\n",
              "    [theme=dark] .colab-df-convert {\n",
              "      background-color: #3B4455;\n",
              "      fill: #D2E3FC;\n",
              "    }\n",
              "\n",
              "    [theme=dark] .colab-df-convert:hover {\n",
              "      background-color: #434B5C;\n",
              "      box-shadow: 0px 1px 3px 1px rgba(0, 0, 0, 0.15);\n",
              "      filter: drop-shadow(0px 1px 2px rgba(0, 0, 0, 0.3));\n",
              "      fill: #FFFFFF;\n",
              "    }\n",
              "  </style>\n",
              "\n",
              "      <script>\n",
              "        const buttonEl =\n",
              "          document.querySelector('#df-bd5e0608-ffab-4276-a8e3-83f87ea8211b button.colab-df-convert');\n",
              "        buttonEl.style.display =\n",
              "          google.colab.kernel.accessAllowed ? 'block' : 'none';\n",
              "\n",
              "        async function convertToInteractive(key) {\n",
              "          const element = document.querySelector('#df-bd5e0608-ffab-4276-a8e3-83f87ea8211b');\n",
              "          const dataTable =\n",
              "            await google.colab.kernel.invokeFunction('convertToInteractive',\n",
              "                                                     [key], {});\n",
              "          if (!dataTable) return;\n",
              "\n",
              "          const docLinkHtml = 'Like what you see? Visit the ' +\n",
              "            '<a target=\"_blank\" href=https://colab.research.google.com/notebooks/data_table.ipynb>data table notebook</a>'\n",
              "            + ' to learn more about interactive tables.';\n",
              "          element.innerHTML = '';\n",
              "          dataTable['output_type'] = 'display_data';\n",
              "          await google.colab.output.renderOutput(dataTable, element);\n",
              "          const docLink = document.createElement('div');\n",
              "          docLink.innerHTML = docLinkHtml;\n",
              "          element.appendChild(docLink);\n",
              "        }\n",
              "      </script>\n",
              "    </div>\n",
              "  </div>\n",
              "  "
            ]
          },
          "metadata": {},
          "execution_count": 22
        }
      ],
      "source": [
        "#Print the top 10 words in the unigram frequency\n",
        "df_unigram.head(10)"
      ]
    },
    {
      "cell_type": "code",
      "execution_count": 23,
      "metadata": {
        "colab": {
          "base_uri": "https://localhost:8080/",
          "height": 442
        },
        "id": "F_34bF0Sg3qh",
        "outputId": "c8127a3a-d2bd-4ba3-9522-bf17fede5379"
      },
      "outputs": [
        {
          "output_type": "display_data",
          "data": {
            "text/plain": [
              "<Figure size 1440x432 with 1 Axes>"
            ],
            "image/png": "[encoded data removed]"
          },
          "metadata": {
            "needs_background": "light"
          }
        }
      ],
      "source": [
        "# Plotting top 30 Unigrams\n",
        "plt.figure(figsize=[20,6])\n",
        "sns.barplot(x=df_unigram['unigram'], y=df_unigram['count'])\n",
        "plt.xticks(rotation=45)\n",
        "plt.xlabel(\"Unigram\")\n",
        "plt.ylabel(\"Count\")\n",
        "plt.title(\"Count of top 30 Unigrams\")\n",
        "plt.show()"
      ]
    },
    {
      "cell_type": "code",
      "execution_count": 24,
      "metadata": {
        "id": "aV7kD7w8JrF8"
      },
      "outputs": [],
      "source": [
        "#Write your code here to find the top 30 bigram frequency among the complaints in the cleaned datafram(df_clean). \n",
        "top_30words = get_top_ngrams(df_clean['Complaint_clean'].values.astype('U'), n=30, ngram=(2,2))\n",
        "df_bigram = pd.DataFrame(top_30words, columns=['bigram', 'count'])"
      ]
    },
    {
      "cell_type": "code",
      "execution_count": 25,
      "metadata": {
        "id": "NPnMNIpyJrF9",
        "colab": {
          "base_uri": "https://localhost:8080/",
          "height": 363
        },
        "outputId": "01e8f5bd-4725-4dda-daf6-ae4920ccb8d0"
      },
      "outputs": [
        {
          "output_type": "execute_result",
          "data": {
            "text/plain": [
              "             bigram  count\n",
              "0       credit card  12782\n",
              "1     credit report   4003\n",
              "2         xxxx xxxx   3931\n",
              "3  customer service   3079\n",
              "4      chase credit   2967\n",
              "5        chase bank   2943\n",
              "6      bank account   2777\n",
              "7     chase account   2619\n",
              "8     account chase   2595\n",
              "9   account account   2413"
            ],
            "text/html": [
              "\n",
              "  <div id=\"df-e6d704eb-0f43-41a4-b1be-20aaeb0e4059\">\n",
              "    <div class=\"colab-df-container\">\n",
              "      <div>\n",
              "<style scoped>\n",
              "    .dataframe tbody tr th:only-of-type {\n",
              "        vertical-align: middle;\n",
              "    }\n",
              "\n",
              "    .dataframe tbody tr th {\n",
              "        vertical-align: top;\n",
              "    }\n",
              "\n",
              "    .dataframe thead th {\n",
              "        text-align: right;\n",
              "    }\n",
              "</style>\n",
              "<table border=\"1\" class=\"dataframe\">\n",
              "  <thead>\n",
              "    <tr style=\"text-align: right;\">\n",
              "      <th></th>\n",
              "      <th>bigram</th>\n",
              "      <th>count</th>\n",
              "    </tr>\n",
              "  </thead>\n",
              "  <tbody>\n",
              "    <tr>\n",
              "      <th>0</th>\n",
              "      <td>credit card</td>\n",
              "      <td>12782</td>\n",
              "    </tr>\n",
              "    <tr>\n",
              "      <th>1</th>\n",
              "      <td>credit report</td>\n",
              "      <td>4003</td>\n",
              "    </tr>\n",
              "    <tr>\n",
              "      <th>2</th>\n",
              "      <td>xxxx xxxx</td>\n",
              "      <td>3931</td>\n",
              "    </tr>\n",
              "    <tr>\n",
              "      <th>3</th>\n",
              "      <td>customer service</td>\n",
              "      <td>3079</td>\n",
              "    </tr>\n",
              "    <tr>\n",
              "      <th>4</th>\n",
              "      <td>chase credit</td>\n",
              "      <td>2967</td>\n",
              "    </tr>\n",
              "    <tr>\n",
              "      <th>5</th>\n",
              "      <td>chase bank</td>\n",
              "      <td>2943</td>\n",
              "    </tr>\n",
              "    <tr>\n",
              "      <th>6</th>\n",
              "      <td>bank account</td>\n",
              "      <td>2777</td>\n",
              "    </tr>\n",
              "    <tr>\n",
              "      <th>7</th>\n",
              "      <td>chase account</td>\n",
              "      <td>2619</td>\n",
              "    </tr>\n",
              "    <tr>\n",
              "      <th>8</th>\n",
              "      <td>account chase</td>\n",
              "      <td>2595</td>\n",
              "    </tr>\n",
              "    <tr>\n",
              "      <th>9</th>\n",
              "      <td>account account</td>\n",
              "      <td>2413</td>\n",
              "    </tr>\n",
              "  </tbody>\n",
              "</table>\n",
              "</div>\n",
              "      <button class=\"colab-df-convert\" onclick=\"convertToInteractive('df-e6d704eb-0f43-41a4-b1be-20aaeb0e4059')\"\n",
              "              title=\"Convert this dataframe to an interactive table.\"\n",
              "              style=\"display:none;\">\n",
              "        \n",
              "  <svg xmlns=\"http://www.w3.org/2000/svg\" height=\"24px\"viewBox=\"0 0 24 24\"\n",
              "       width=\"24px\">\n",
              "    <path d=\"M0 0h24v24H0V0z\" fill=\"none\"/>\n",
              "    <path d=\"M18.56 5.44l.94 2.06.94-2.06 2.06-.94-2.06-.94-.94-2.06-.94 2.06-2.06.94zm-11 1L8.5 8.5l.94-2.06 2.06-.94-2.06-.94L8.5 2.5l-.94 2.06-2.06.94zm10 10l.94 2.06.94-2.06 2.06-.94-2.06-.94-.94-2.06-.94 2.06-2.06.94z\"/><path d=\"M17.41 7.96l-1.37-1.37c-.4-.4-.92-.59-1.43-.59-.52 0-1.04.2-1.43.59L10.3 9.45l-7.72 7.72c-.78.78-.78 2.05 0 2.83L4 21.41c.39.39.9.59 1.41.59.51 0 1.02-.2 1.41-.59l7.78-7.78 2.81-2.81c.8-.78.8-2.07 0-2.86zM5.41 20L4 18.59l7.72-7.72 1.47 1.35L5.41 20z\"/>\n",
              "  </svg>\n",
              "      </button>\n",
              "      \n",
              "  <style>\n",
              "    .colab-df-container {\n",
              "      display:flex;\n",
              "      flex-wrap:wrap;\n",
              "      gap: 12px;\n",
              "    }\n",
              "\n",
              "    .colab-df-convert {\n",
              "      background-color: #E8F0FE;\n",
              "      border: none;\n",
              "      border-radius: 50%;\n",
              "      cursor: pointer;\n",
              "      display: none;\n",
              "      fill: #1967D2;\n",
              "      height: 32px;\n",
              "      padding: 0 0 0 0;\n",
              "      width: 32px;\n",
              "    }\n",
              "\n",
              "    .colab-df-convert:hover {\n",
              "      background-color: #E2EBFA;\n",
              "      box-shadow: 0px 1px 2px rgba(60, 64, 67, 0.3), 0px 1px 3px 1px rgba(60, 64, 67, 0.15);\n",
              "      fill: #174EA6;\n",
              "    }\n",
              "\n",
              "    [theme=dark] .colab-df-convert {\n",
              "      background-color: #3B4455;\n",
              "      fill: #D2E3FC;\n",
              "    }\n",
              "\n",
              "    [theme=dark] .colab-df-convert:hover {\n",
              "      background-color: #434B5C;\n",
              "      box-shadow: 0px 1px 3px 1px rgba(0, 0, 0, 0.15);\n",
              "      filter: drop-shadow(0px 1px 2px rgba(0, 0, 0, 0.3));\n",
              "      fill: #FFFFFF;\n",
              "    }\n",
              "  </style>\n",
              "\n",
              "      <script>\n",
              "        const buttonEl =\n",
              "          document.querySelector('#df-e6d704eb-0f43-41a4-b1be-20aaeb0e4059 button.colab-df-convert');\n",
              "        buttonEl.style.display =\n",
              "          google.colab.kernel.accessAllowed ? 'block' : 'none';\n",
              "\n",
              "        async function convertToInteractive(key) {\n",
              "          const element = document.querySelector('#df-e6d704eb-0f43-41a4-b1be-20aaeb0e4059');\n",
              "          const dataTable =\n",
              "            await google.colab.kernel.invokeFunction('convertToInteractive',\n",
              "                                                     [key], {});\n",
              "          if (!dataTable) return;\n",
              "\n",
              "          const docLinkHtml = 'Like what you see? Visit the ' +\n",
              "            '<a target=\"_blank\" href=https://colab.research.google.com/notebooks/data_table.ipynb>data table notebook</a>'\n",
              "            + ' to learn more about interactive tables.';\n",
              "          element.innerHTML = '';\n",
              "          dataTable['output_type'] = 'display_data';\n",
              "          await google.colab.output.renderOutput(dataTable, element);\n",
              "          const docLink = document.createElement('div');\n",
              "          docLink.innerHTML = docLinkHtml;\n",
              "          element.appendChild(docLink);\n",
              "        }\n",
              "      </script>\n",
              "    </div>\n",
              "  </div>\n",
              "  "
            ]
          },
          "metadata": {},
          "execution_count": 25
        }
      ],
      "source": [
        "#Print the top 10 words in the bigram frequency\n",
        "df_bigram.head(10)"
      ]
    },
    {
      "cell_type": "code",
      "execution_count": 26,
      "metadata": {
        "colab": {
          "base_uri": "https://localhost:8080/",
          "height": 466
        },
        "id": "Q5b-XipJg3qi",
        "outputId": "0158a5df-1a0e-4e02-aa54-d0ed3f84feaf"
      },
      "outputs": [
        {
          "output_type": "display_data",
          "data": {
            "text/plain": [
              "<Figure size 1440x432 with 1 Axes>"
            ],
            "image/png": "[encoded data removed]"
          },
          "metadata": {
            "needs_background": "light"
          }
        }
      ],
      "source": [
        "# Plotting top 30 Bigrams\n",
        "plt.figure(figsize=[20,6])\n",
        "sns.barplot(x=df_bigram['bigram'], y=df_bigram['count'])\n",
        "plt.xticks(rotation=45)\n",
        "plt.xlabel(\"Bigram\")\n",
        "plt.ylabel(\"Count\")\n",
        "plt.title(\"Count of top 30 Bigrams\")\n",
        "plt.show()"
      ]
    },
    {
      "cell_type": "code",
      "execution_count": 27,
      "metadata": {
        "id": "Xkh7vtbtJrF-"
      },
      "outputs": [],
      "source": [
        "#Write your code here to find the top 30 trigram frequency among the complaints in the cleaned datafram(df_clean). \n",
        "top_30words = get_top_ngrams(df_clean['Complaint_clean'].values.astype('U'), n=30, ngram=(3,3))\n",
        "df_trigram = pd.DataFrame(top_30words, columns=['trigram', 'count'])\n"
      ]
    },
    {
      "cell_type": "code",
      "execution_count": 28,
      "metadata": {
        "id": "REcVxNfvJrF-",
        "colab": {
          "base_uri": "https://localhost:8080/",
          "height": 363
        },
        "outputId": "be2c8c68-fc62-46df-abd0-95998c235f6b"
      },
      "outputs": [
        {
          "output_type": "execute_result",
          "data": {
            "text/plain": [
              "                 trigram  count\n",
              "0      chase credit card   2063\n",
              "1    credit card account   1027\n",
              "2    credit card company    991\n",
              "3      credit card chase    634\n",
              "4     credit card credit    514\n",
              "5  inquiry credit report    480\n",
              "6     charge credit card    422\n",
              "7         xxxx xxxx xxxx    410\n",
              "8    account credit card    401\n",
              "9       card credit card    388"
            ],
            "text/html": [
              "\n",
              "  <div id=\"df-13d1e827-a4ab-46d1-90d0-849e7d26649e\">\n",
              "    <div class=\"colab-df-container\">\n",
              "      <div>\n",
              "<style scoped>\n",
              "    .dataframe tbody tr th:only-of-type {\n",
              "        vertical-align: middle;\n",
              "    }\n",
              "\n",
              "    .dataframe tbody tr th {\n",
              "        vertical-align: top;\n",
              "    }\n",
              "\n",
              "    .dataframe thead th {\n",
              "        text-align: right;\n",
              "    }\n",
              "</style>\n",
              "<table border=\"1\" class=\"dataframe\">\n",
              "  <thead>\n",
              "    <tr style=\"text-align: right;\">\n",
              "      <th></th>\n",
              "      <th>trigram</th>\n",
              "      <th>count</th>\n",
              "    </tr>\n",
              "  </thead>\n",
              "  <tbody>\n",
              "    <tr>\n",
              "      <th>0</th>\n",
              "      <td>chase credit card</td>\n",
              "      <td>2063</td>\n",
              "    </tr>\n",
              "    <tr>\n",
              "      <th>1</th>\n",
              "      <td>credit card account</td>\n",
              "      <td>1027</td>\n",
              "    </tr>\n",
              "    <tr>\n",
              "      <th>2</th>\n",
              "      <td>credit card company</td>\n",
              "      <td>991</td>\n",
              "    </tr>\n",
              "    <tr>\n",
              "      <th>3</th>\n",
              "      <td>credit card chase</td>\n",
              "      <td>634</td>\n",
              "    </tr>\n",
              "    <tr>\n",
              "      <th>4</th>\n",
              "      <td>credit card credit</td>\n",
              "      <td>514</td>\n",
              "    </tr>\n",
              "    <tr>\n",
              "      <th>5</th>\n",
              "      <td>inquiry credit report</td>\n",
              "      <td>480</td>\n",
              "    </tr>\n",
              "    <tr>\n",
              "      <th>6</th>\n",
              "      <td>charge credit card</td>\n",
              "      <td>422</td>\n",
              "    </tr>\n",
              "    <tr>\n",
              "      <th>7</th>\n",
              "      <td>xxxx xxxx xxxx</td>\n",
              "      <td>410</td>\n",
              "    </tr>\n",
              "    <tr>\n",
              "      <th>8</th>\n",
              "      <td>account credit card</td>\n",
              "      <td>401</td>\n",
              "    </tr>\n",
              "    <tr>\n",
              "      <th>9</th>\n",
              "      <td>card credit card</td>\n",
              "      <td>388</td>\n",
              "    </tr>\n",
              "  </tbody>\n",
              "</table>\n",
              "</div>\n",
              "      <button class=\"colab-df-convert\" onclick=\"convertToInteractive('df-13d1e827-a4ab-46d1-90d0-849e7d26649e')\"\n",
              "              title=\"Convert this dataframe to an interactive table.\"\n",
              "              style=\"display:none;\">\n",
              "        \n",
              "  <svg xmlns=\"http://www.w3.org/2000/svg\" height=\"24px\"viewBox=\"0 0 24 24\"\n",
              "       width=\"24px\">\n",
              "    <path d=\"M0 0h24v24H0V0z\" fill=\"none\"/>\n",
              "    <path d=\"M18.56 5.44l.94 2.06.94-2.06 2.06-.94-2.06-.94-.94-2.06-.94 2.06-2.06.94zm-11 1L8.5 8.5l.94-2.06 2.06-.94-2.06-.94L8.5 2.5l-.94 2.06-2.06.94zm10 10l.94 2.06.94-2.06 2.06-.94-2.06-.94-.94-2.06-.94 2.06-2.06.94z\"/><path d=\"M17.41 7.96l-1.37-1.37c-.4-.4-.92-.59-1.43-.59-.52 0-1.04.2-1.43.59L10.3 9.45l-7.72 7.72c-.78.78-.78 2.05 0 2.83L4 21.41c.39.39.9.59 1.41.59.51 0 1.02-.2 1.41-.59l7.78-7.78 2.81-2.81c.8-.78.8-2.07 0-2.86zM5.41 20L4 18.59l7.72-7.72 1.47 1.35L5.41 20z\"/>\n",
              "  </svg>\n",
              "      </button>\n",
              "      \n",
              "  <style>\n",
              "    .colab-df-container {\n",
              "      display:flex;\n",
              "      flex-wrap:wrap;\n",
              "      gap: 12px;\n",
              "    }\n",
              "\n",
              "    .colab-df-convert {\n",
              "      background-color: #E8F0FE;\n",
              "      border: none;\n",
              "      border-radius: 50%;\n",
              "      cursor: pointer;\n",
              "      display: none;\n",
              "      fill: #1967D2;\n",
              "      height: 32px;\n",
              "      padding: 0 0 0 0;\n",
              "      width: 32px;\n",
              "    }\n",
              "\n",
              "    .colab-df-convert:hover {\n",
              "      background-color: #E2EBFA;\n",
              "      box-shadow: 0px 1px 2px rgba(60, 64, 67, 0.3), 0px 1px 3px 1px rgba(60, 64, 67, 0.15);\n",
              "      fill: #174EA6;\n",
              "    }\n",
              "\n",
              "    [theme=dark] .colab-df-convert {\n",
              "      background-color: #3B4455;\n",
              "      fill: #D2E3FC;\n",
              "    }\n",
              "\n",
              "    [theme=dark] .colab-df-convert:hover {\n",
              "      background-color: #434B5C;\n",
              "      box-shadow: 0px 1px 3px 1px rgba(0, 0, 0, 0.15);\n",
              "      filter: drop-shadow(0px 1px 2px rgba(0, 0, 0, 0.3));\n",
              "      fill: #FFFFFF;\n",
              "    }\n",
              "  </style>\n",
              "\n",
              "      <script>\n",
              "        const buttonEl =\n",
              "          document.querySelector('#df-13d1e827-a4ab-46d1-90d0-849e7d26649e button.colab-df-convert');\n",
              "        buttonEl.style.display =\n",
              "          google.colab.kernel.accessAllowed ? 'block' : 'none';\n",
              "\n",
              "        async function convertToInteractive(key) {\n",
              "          const element = document.querySelector('#df-13d1e827-a4ab-46d1-90d0-849e7d26649e');\n",
              "          const dataTable =\n",
              "            await google.colab.kernel.invokeFunction('convertToInteractive',\n",
              "                                                     [key], {});\n",
              "          if (!dataTable) return;\n",
              "\n",
              "          const docLinkHtml = 'Like what you see? Visit the ' +\n",
              "            '<a target=\"_blank\" href=https://colab.research.google.com/notebooks/data_table.ipynb>data table notebook</a>'\n",
              "            + ' to learn more about interactive tables.';\n",
              "          element.innerHTML = '';\n",
              "          dataTable['output_type'] = 'display_data';\n",
              "          await google.colab.output.renderOutput(dataTable, element);\n",
              "          const docLink = document.createElement('div');\n",
              "          docLink.innerHTML = docLinkHtml;\n",
              "          element.appendChild(docLink);\n",
              "        }\n",
              "      </script>\n",
              "    </div>\n",
              "  </div>\n",
              "  "
            ]
          },
          "metadata": {},
          "execution_count": 28
        }
      ],
      "source": [
        "#Print the top 10 words in the trigram frequency\n",
        "df_trigram.head(10)"
      ]
    },
    {
      "cell_type": "code",
      "execution_count": 29,
      "metadata": {
        "colab": {
          "base_uri": "https://localhost:8080/",
          "height": 501
        },
        "id": "fFMCmdxLg3qj",
        "outputId": "f4241db8-c507-4a65-912a-67cefd1861af"
      },
      "outputs": [
        {
          "output_type": "display_data",
          "data": {
            "text/plain": [
              "<Figure size 1440x432 with 1 Axes>"
            ],
            "image/png": "[encoded data removed]"
          },
          "metadata": {
            "needs_background": "light"
          }
        }
      ],
      "source": [
        "plt.figure(figsize=[20,6])\n",
        "sns.barplot(x=df_trigram['trigram'], y=df_trigram['count'])\n",
        "plt.xticks(rotation=45)\n",
        "plt.xlabel(\"Trigram\")\n",
        "plt.ylabel(\"Count\")\n",
        "plt.title(\"Count of top 30 Trigrams\")\n",
        "plt.show()"
      ]
    },
    {
      "cell_type": "markdown",
      "metadata": {
        "id": "yUXzFji0JrF_"
      },
      "source": [
        "## The personal details of customer has been masked in the dataset with xxxx. Let's remove the masked text as this will be of no use for our analysis"
      ]
    },
    {
      "cell_type": "code",
      "execution_count": 30,
      "metadata": {
        "colab": {
          "base_uri": "https://localhost:8080/"
        },
        "id": "5H5kbLZJg3qj",
        "outputId": "836dcb93-339b-4244-fafe-2b67e1e6b62a"
      },
      "outputs": [
        {
          "output_type": "execute_result",
          "data": {
            "text/plain": [
              "(21072, 4)"
            ]
          },
          "metadata": {},
          "execution_count": 30
        }
      ],
      "source": [
        "df_clean.shape"
      ]
    },
    {
      "cell_type": "code",
      "execution_count": 31,
      "metadata": {
        "id": "wKda-a_IJrF_"
      },
      "outputs": [],
      "source": [
        "df_clean['Complaint_clean'] = df_clean['Complaint_clean'].str.replace('xxxx','')"
      ]
    },
    {
      "cell_type": "code",
      "execution_count": 32,
      "metadata": {
        "id": "9UIFk8fQJrF_",
        "colab": {
          "base_uri": "https://localhost:8080/",
          "height": 424
        },
        "outputId": "dd14a51b-702e-4408-baf7-9d9163d2d700"
      },
      "outputs": [
        {
          "output_type": "execute_result",
          "data": {
            "text/plain": [
              "                                 complaint_what_happened  \\\n",
              "1      good morning my name is xxxx xxxx and i apprec...   \n",
              "2      i upgraded my xxxx xxxx card in  and was told ...   \n",
              "10     chase card was reported on  however fraudulent...   \n",
              "11     on  while trying to book a xxxx  xxxx  ticket ...   \n",
              "14     my grand son give me check for  i deposit it i...   \n",
              "...                                                  ...   \n",
              "78303  after being a chase card customer for well ove...   \n",
              "78309  on wednesday xxxxxxxx i called chas my xxxx xx...   \n",
              "78310  i am not familiar with xxxx pay and did not un...   \n",
              "78311  i have had flawless credit for  yrs ive had ch...   \n",
              "78312  roughly  years ago i closed out my accounts wi...   \n",
              "\n",
              "                                    complaint_lemmatized  \\\n",
              "1      good morning my name be xxxx xxxx and I apprec...   \n",
              "2      I upgrade my xxxx xxxx card in   and be tell b...   \n",
              "10     chase card be report on   however fraudulent a...   \n",
              "11     on   while try to book a xxxx   xxxx   ticket ...   \n",
              "14     my grand son give I check for   I deposit it i...   \n",
              "...                                                  ...   \n",
              "78303  after be a chase card customer for well over a...   \n",
              "78309  on wednesday xxxxxxxx I call chas my xxxx xxxx...   \n",
              "78310  I be not familiar with xxxx pay and do not und...   \n",
              "78311  I have have flawless credit for   yr I ve have...   \n",
              "78312  roughly   year ago I close out my account with...   \n",
              "\n",
              "                                   complaint_POS_removed  \\\n",
              "1      morning name stop bank cardmember service ask ...   \n",
              "2      card agent upgrade date agent information orde...   \n",
              "10     card report application identity consent servi...   \n",
              "11     try book xxxx ticket offer ticket card informa...   \n",
              "14     son chase account fund bank account pay money ...   \n",
              "...                                                  ...   \n",
              "78303  card customer decade solicitation credit card ...   \n",
              "78309  visa credit card provider claim purchase prote...   \n",
              "78310  pay risk provide consumer bank app chase year ...   \n",
              "78311  credit yr credit card chase freedom xxxx probl...   \n",
              "78312  year account jp bank xxxx order line credit ac...   \n",
              "\n",
              "                                         Complaint_clean  \n",
              "1      morning name stop bank cardmember service ask ...  \n",
              "2      card agent upgrade date agent information orde...  \n",
              "10     card report application identity consent servi...  \n",
              "11     try book  ticket offer ticket card information...  \n",
              "14     son chase account fund bank account pay money ...  \n",
              "...                                                  ...  \n",
              "78303  card customer decade solicitation credit card ...  \n",
              "78309  visa credit card provider claim purchase prote...  \n",
              "78310  pay risk provide consumer bank app chase year ...  \n",
              "78311  credit yr credit card chase freedom  problem b...  \n",
              "78312  year account jp bank  order line credit accoun...  \n",
              "\n",
              "[21072 rows x 4 columns]"
            ],
            "text/html": [
              "\n",
              "  <div id=\"df-3a6554a3-c17f-4014-a539-1f504756a210\">\n",
              "    <div class=\"colab-df-container\">\n",
              "      <div>\n",
              "<style scoped>\n",
              "    .dataframe tbody tr th:only-of-type {\n",
              "        vertical-align: middle;\n",
              "    }\n",
              "\n",
              "    .dataframe tbody tr th {\n",
              "        vertical-align: top;\n",
              "    }\n",
              "\n",
              "    .dataframe thead th {\n",
              "        text-align: right;\n",
              "    }\n",
              "</style>\n",
              "<table border=\"1\" class=\"dataframe\">\n",
              "  <thead>\n",
              "    <tr style=\"text-align: right;\">\n",
              "      <th></th>\n",
              "      <th>complaint_what_happened</th>\n",
              "      <th>complaint_lemmatized</th>\n",
              "      <th>complaint_POS_removed</th>\n",
              "      <th>Complaint_clean</th>\n",
              "    </tr>\n",
              "  </thead>\n",
              "  <tbody>\n",
              "    <tr>\n",
              "      <th>1</th>\n",
              "      <td>good morning my name is xxxx xxxx and i apprec...</td>\n",
              "      <td>good morning my name be xxxx xxxx and I apprec...</td>\n",
              "      <td>morning name stop bank cardmember service ask ...</td>\n",
              "      <td>morning name stop bank cardmember service ask ...</td>\n",
              "    </tr>\n",
              "    <tr>\n",
              "      <th>2</th>\n",
              "      <td>i upgraded my xxxx xxxx card in  and was told ...</td>\n",
              "      <td>I upgrade my xxxx xxxx card in   and be tell b...</td>\n",
              "      <td>card agent upgrade date agent information orde...</td>\n",
              "      <td>card agent upgrade date agent information orde...</td>\n",
              "    </tr>\n",
              "    <tr>\n",
              "      <th>10</th>\n",
              "      <td>chase card was reported on  however fraudulent...</td>\n",
              "      <td>chase card be report on   however fraudulent a...</td>\n",
              "      <td>card report application identity consent servi...</td>\n",
              "      <td>card report application identity consent servi...</td>\n",
              "    </tr>\n",
              "    <tr>\n",
              "      <th>11</th>\n",
              "      <td>on  while trying to book a xxxx  xxxx  ticket ...</td>\n",
              "      <td>on   while try to book a xxxx   xxxx   ticket ...</td>\n",
              "      <td>try book xxxx ticket offer ticket card informa...</td>\n",
              "      <td>try book  ticket offer ticket card information...</td>\n",
              "    </tr>\n",
              "    <tr>\n",
              "      <th>14</th>\n",
              "      <td>my grand son give me check for  i deposit it i...</td>\n",
              "      <td>my grand son give I check for   I deposit it i...</td>\n",
              "      <td>son chase account fund bank account pay money ...</td>\n",
              "      <td>son chase account fund bank account pay money ...</td>\n",
              "    </tr>\n",
              "    <tr>\n",
              "      <th>...</th>\n",
              "      <td>...</td>\n",
              "      <td>...</td>\n",
              "      <td>...</td>\n",
              "      <td>...</td>\n",
              "    </tr>\n",
              "    <tr>\n",
              "      <th>78303</th>\n",
              "      <td>after being a chase card customer for well ove...</td>\n",
              "      <td>after be a chase card customer for well over a...</td>\n",
              "      <td>card customer decade solicitation credit card ...</td>\n",
              "      <td>card customer decade solicitation credit card ...</td>\n",
              "    </tr>\n",
              "    <tr>\n",
              "      <th>78309</th>\n",
              "      <td>on wednesday xxxxxxxx i called chas my xxxx xx...</td>\n",
              "      <td>on wednesday xxxxxxxx I call chas my xxxx xxxx...</td>\n",
              "      <td>visa credit card provider claim purchase prote...</td>\n",
              "      <td>visa credit card provider claim purchase prote...</td>\n",
              "    </tr>\n",
              "    <tr>\n",
              "      <th>78310</th>\n",
              "      <td>i am not familiar with xxxx pay and did not un...</td>\n",
              "      <td>I be not familiar with xxxx pay and do not und...</td>\n",
              "      <td>pay risk provide consumer bank app chase year ...</td>\n",
              "      <td>pay risk provide consumer bank app chase year ...</td>\n",
              "    </tr>\n",
              "    <tr>\n",
              "      <th>78311</th>\n",
              "      <td>i have had flawless credit for  yrs ive had ch...</td>\n",
              "      <td>I have have flawless credit for   yr I ve have...</td>\n",
              "      <td>credit yr credit card chase freedom xxxx probl...</td>\n",
              "      <td>credit yr credit card chase freedom  problem b...</td>\n",
              "    </tr>\n",
              "    <tr>\n",
              "      <th>78312</th>\n",
              "      <td>roughly  years ago i closed out my accounts wi...</td>\n",
              "      <td>roughly   year ago I close out my account with...</td>\n",
              "      <td>year account jp bank xxxx order line credit ac...</td>\n",
              "      <td>year account jp bank  order line credit accoun...</td>\n",
              "    </tr>\n",
              "  </tbody>\n",
              "</table>\n",
              "<p>21072 rows × 4 columns</p>\n",
              "</div>\n",
              "      <button class=\"colab-df-convert\" onclick=\"convertToInteractive('df-3a6554a3-c17f-4014-a539-1f504756a210')\"\n",
              "              title=\"Convert this dataframe to an interactive table.\"\n",
              "              style=\"display:none;\">\n",
              "        \n",
              "  <svg xmlns=\"http://www.w3.org/2000/svg\" height=\"24px\"viewBox=\"0 0 24 24\"\n",
              "       width=\"24px\">\n",
              "    <path d=\"M0 0h24v24H0V0z\" fill=\"none\"/>\n",
              "    <path d=\"M18.56 5.44l.94 2.06.94-2.06 2.06-.94-2.06-.94-.94-2.06-.94 2.06-2.06.94zm-11 1L8.5 8.5l.94-2.06 2.06-.94-2.06-.94L8.5 2.5l-.94 2.06-2.06.94zm10 10l.94 2.06.94-2.06 2.06-.94-2.06-.94-.94-2.06-.94 2.06-2.06.94z\"/><path d=\"M17.41 7.96l-1.37-1.37c-.4-.4-.92-.59-1.43-.59-.52 0-1.04.2-1.43.59L10.3 9.45l-7.72 7.72c-.78.78-.78 2.05 0 2.83L4 21.41c.39.39.9.59 1.41.59.51 0 1.02-.2 1.41-.59l7.78-7.78 2.81-2.81c.8-.78.8-2.07 0-2.86zM5.41 20L4 18.59l7.72-7.72 1.47 1.35L5.41 20z\"/>\n",
              "  </svg>\n",
              "      </button>\n",
              "      \n",
              "  <style>\n",
              "    .colab-df-container {\n",
              "      display:flex;\n",
              "      flex-wrap:wrap;\n",
              "      gap: 12px;\n",
              "    }\n",
              "\n",
              "    .colab-df-convert {\n",
              "      background-color: #E8F0FE;\n",
              "      border: none;\n",
              "      border-radius: 50%;\n",
              "      cursor: pointer;\n",
              "      display: none;\n",
              "      fill: #1967D2;\n",
              "      height: 32px;\n",
              "      padding: 0 0 0 0;\n",
              "      width: 32px;\n",
              "    }\n",
              "\n",
              "    .colab-df-convert:hover {\n",
              "      background-color: #E2EBFA;\n",
              "      box-shadow: 0px 1px 2px rgba(60, 64, 67, 0.3), 0px 1px 3px 1px rgba(60, 64, 67, 0.15);\n",
              "      fill: #174EA6;\n",
              "    }\n",
              "\n",
              "    [theme=dark] .colab-df-convert {\n",
              "      background-color: #3B4455;\n",
              "      fill: #D2E3FC;\n",
              "    }\n",
              "\n",
              "    [theme=dark] .colab-df-convert:hover {\n",
              "      background-color: #434B5C;\n",
              "      box-shadow: 0px 1px 3px 1px rgba(0, 0, 0, 0.15);\n",
              "      filter: drop-shadow(0px 1px 2px rgba(0, 0, 0, 0.3));\n",
              "      fill: #FFFFFF;\n",
              "    }\n",
              "  </style>\n",
              "\n",
              "      <script>\n",
              "        const buttonEl =\n",
              "          document.querySelector('#df-3a6554a3-c17f-4014-a539-1f504756a210 button.colab-df-convert');\n",
              "        buttonEl.style.display =\n",
              "          google.colab.kernel.accessAllowed ? 'block' : 'none';\n",
              "\n",
              "        async function convertToInteractive(key) {\n",
              "          const element = document.querySelector('#df-3a6554a3-c17f-4014-a539-1f504756a210');\n",
              "          const dataTable =\n",
              "            await google.colab.kernel.invokeFunction('convertToInteractive',\n",
              "                                                     [key], {});\n",
              "          if (!dataTable) return;\n",
              "\n",
              "          const docLinkHtml = 'Like what you see? Visit the ' +\n",
              "            '<a target=\"_blank\" href=https://colab.research.google.com/notebooks/data_table.ipynb>data table notebook</a>'\n",
              "            + ' to learn more about interactive tables.';\n",
              "          element.innerHTML = '';\n",
              "          dataTable['output_type'] = 'display_data';\n",
              "          await google.colab.output.renderOutput(dataTable, element);\n",
              "          const docLink = document.createElement('div');\n",
              "          docLink.innerHTML = docLinkHtml;\n",
              "          element.appendChild(docLink);\n",
              "        }\n",
              "      </script>\n",
              "    </div>\n",
              "  </div>\n",
              "  "
            ]
          },
          "metadata": {},
          "execution_count": 32
        }
      ],
      "source": [
        "#All masked texts has been removed\n",
        "df_clean"
      ]
    },
    {
      "cell_type": "markdown",
      "metadata": {
        "id": "k-I0k0QtJrGA"
      },
      "source": [
        "## Feature Extraction\n",
        "Convert the raw texts to a matrix of TF-IDF features\n",
        "\n",
        "**max_df** is used for removing terms that appear too frequently, also known as \"corpus-specific stop words\"\n",
        "max_df = 0.95 means \"ignore terms that appear in more than 95% of the complaints\"\n",
        "\n",
        "**min_df** is used for removing terms that appear too infrequently\n",
        "min_df = 2 means \"ignore terms that appear in less than 2 complaints\""
      ]
    },
    {
      "cell_type": "code",
      "execution_count": 33,
      "metadata": {
        "id": "Y8fGwaCPJrGA"
      },
      "outputs": [],
      "source": [
        "#Write your code here to initialise the TfidfVectorizer \n",
        "tfidf = TfidfVectorizer(min_df=2, max_df=0.95, stop_words='english')\n"
      ]
    },
    {
      "cell_type": "markdown",
      "metadata": {
        "id": "yYzD85nTJrGA"
      },
      "source": [
        "#### Create a document term matrix using fit_transform\n",
        "\n",
        "The contents of a document term matrix are tuples of (complaint_id,token_id) tf-idf score:\n",
        "The tuples that are not there have a tf-idf score of 0"
      ]
    },
    {
      "cell_type": "code",
      "execution_count": 34,
      "metadata": {
        "id": "ffzdDpp_JrGB"
      },
      "outputs": [],
      "source": [
        "#Write your code here to create the Document Term Matrix by transforming the complaints column present in df_clean.\n",
        "dtm = tfidf.fit_transform(df_clean['Complaint_clean'])"
      ]
    },
    {
      "cell_type": "code",
      "execution_count": 35,
      "metadata": {
        "colab": {
          "base_uri": "https://localhost:8080/"
        },
        "id": "JUKNDFr8g3ql",
        "outputId": "0805551c-96b0-4748-800a-87c339d9bd82"
      },
      "outputs": [
        {
          "output_type": "execute_result",
          "data": {
            "text/plain": [
              "<21072x7261 sparse matrix of type '<class 'numpy.float64'>'\n",
              "\twith 643149 stored elements in Compressed Sparse Row format>"
            ]
          },
          "metadata": {},
          "execution_count": 35
        }
      ],
      "source": [
        "dtm"
      ]
    },
    {
      "cell_type": "markdown",
      "metadata": {
        "id": "7Q9lwvNEJrGB"
      },
      "source": [
        "## Topic Modelling using NMF\n",
        "\n",
        "Non-Negative Matrix Factorization (NMF) is an unsupervised technique so there are no labeling of topics that the model will be trained on. The way it works is that, NMF decomposes (or factorizes) high-dimensional vectors into a lower-dimensional representation. These lower-dimensional vectors are non-negative which also means their coefficients are non-negative.\n",
        "\n",
        "In this task you have to perform the following:\n",
        "\n",
        "* Find the best number of clusters \n",
        "* Apply the best number to create word clusters\n",
        "* Inspect & validate the correction of each cluster wrt the complaints \n",
        "* Correct the labels if needed \n",
        "* Map the clusters to topics/cluster names"
      ]
    },
    {
      "cell_type": "code",
      "execution_count": 36,
      "metadata": {
        "id": "amLT4omWJrGB"
      },
      "outputs": [],
      "source": [
        "from sklearn.decomposition import NMF"
      ]
    },
    {
      "cell_type": "markdown",
      "metadata": {
        "id": "0wYR1xUTJrGD"
      },
      "source": [
        "## Manual Topic Modeling\n",
        "You need to do take the trial & error approach to find the best num of topics for your NMF model.\n",
        "\n",
        "The only parameter that is required is the number of components i.e. the number of topics we want. This is the most crucial step in the whole topic modeling process and will greatly affect how good your final topics are."
      ]
    },
    {
      "cell_type": "code",
      "execution_count": 37,
      "metadata": {
        "id": "sgd2A6bhJrGD"
      },
      "outputs": [],
      "source": [
        "#Load your nmf_model with the n_components i.e 5\n",
        "num_topics = 5\n",
        "\n",
        "#keep the random_state =40\n",
        "nmf_model = NMF(n_components=num_topics, random_state=40)"
      ]
    },
    {
      "cell_type": "code",
      "execution_count": 38,
      "metadata": {
        "colab": {
          "base_uri": "https://localhost:8080/",
          "height": 35
        },
        "id": "Unnd0oebg3qn",
        "outputId": "fb5b80ee-061f-462e-f524-2d63bf8fcbc2"
      },
      "outputs": [
        {
          "output_type": "execute_result",
          "data": {
            "text/plain": [
              "'1.0.2'"
            ],
            "application/vnd.google.colaboratory.intrinsic+json": {
              "type": "string"
            }
          },
          "metadata": {},
          "execution_count": 38
        }
      ],
      "source": [
        "import sklearn\n",
        "sklearn.__version__"
      ]
    },
    {
      "cell_type": "code",
      "execution_count": 39,
      "metadata": {
        "id": "VPMDYbt_JrGE",
        "colab": {
          "base_uri": "https://localhost:8080/"
        },
        "outputId": "1144078d-ae52-4aa6-cc91-994e2be271be"
      },
      "outputs": [
        {
          "output_type": "stream",
          "name": "stderr",
          "text": [
            "/usr/local/lib/python3.8/dist-packages/sklearn/decomposition/_nmf.py:289: FutureWarning:\n",
            "\n",
            "The 'init' value, when 'init=None' and n_components is less than n_samples and n_features, will be changed from 'nndsvd' to 'nndsvda' in 1.1 (renaming of 0.26).\n",
            "\n",
            "/usr/local/lib/python3.8/dist-packages/sklearn/utils/deprecation.py:87: FutureWarning:\n",
            "\n",
            "Function get_feature_names is deprecated; get_feature_names is deprecated in 1.0 and will be removed in 1.2. Please use get_feature_names_out instead.\n",
            "\n"
          ]
        },
        {
          "output_type": "execute_result",
          "data": {
            "text/plain": [
              "7261"
            ]
          },
          "metadata": {},
          "execution_count": 39
        }
      ],
      "source": [
        "nmf_model.fit(dtm)\n",
        "len(tfidf.get_feature_names())"
      ]
    },
    {
      "cell_type": "code",
      "execution_count": 40,
      "metadata": {
        "id": "wJr9RCxWg3qn"
      },
      "outputs": [],
      "source": [
        "H = nmf_model.components_  "
      ]
    },
    {
      "cell_type": "code",
      "execution_count": 41,
      "metadata": {
        "id": "16kRfat5JrGE",
        "colab": {
          "base_uri": "https://localhost:8080/",
          "height": 206
        },
        "outputId": "04635b8b-f05a-497a-e4ad-b6e2127f734f"
      },
      "outputs": [
        {
          "output_type": "execute_result",
          "data": {
            "text/plain": [
              "          Word 1    Word 2  Word 3        Word 4     Word 5    Word 6  \\\n",
              "Topic 1  account      bank   check         money       fund     chase   \n",
              "Topic 2   credit      card  report       inquiry      chase   account   \n",
              "Topic 3  payment   balance   month           fee  statement       day   \n",
              "Topic 4   charge      card     fee   transaction    dispute     chase   \n",
              "Topic 5     loan  mortgage    home  modification      chase  property   \n",
              "\n",
              "           Word 7   Word 8    Word 9      Word 10   Word 11      Word 12  \\\n",
              "Topic 1   deposit   branch       day       number  business  transaction   \n",
              "Topic 2     score  company     limit  information      debt  application   \n",
              "Topic 3      time     auto      date          pay    credit      account   \n",
              "Topic 4  merchant    fraud  purchase        claim   service         time   \n",
              "Topic 5      year   letter      rate         time  document         bank   \n",
              "\n",
              "           Word 13      Word 14   Word 15  \n",
              "Topic 1   checking        claim  transfer  \n",
              "Topic 2     letter         year   balance  \n",
              "Topic 3      chase         year  mortgage  \n",
              "Topic 4  statement       refund   company  \n",
              "Topic 5      house  foreclosure      sale  "
            ],
            "text/html": [
              "\n",
              "  <div id=\"df-f7ee3db5-1986-4158-83a1-bd087eb0e674\">\n",
              "    <div class=\"colab-df-container\">\n",
              "      <div>\n",
              "<style scoped>\n",
              "    .dataframe tbody tr th:only-of-type {\n",
              "        vertical-align: middle;\n",
              "    }\n",
              "\n",
              "    .dataframe tbody tr th {\n",
              "        vertical-align: top;\n",
              "    }\n",
              "\n",
              "    .dataframe thead th {\n",
              "        text-align: right;\n",
              "    }\n",
              "</style>\n",
              "<table border=\"1\" class=\"dataframe\">\n",
              "  <thead>\n",
              "    <tr style=\"text-align: right;\">\n",
              "      <th></th>\n",
              "      <th>Word 1</th>\n",
              "      <th>Word 2</th>\n",
              "      <th>Word 3</th>\n",
              "      <th>Word 4</th>\n",
              "      <th>Word 5</th>\n",
              "      <th>Word 6</th>\n",
              "      <th>Word 7</th>\n",
              "      <th>Word 8</th>\n",
              "      <th>Word 9</th>\n",
              "      <th>Word 10</th>\n",
              "      <th>Word 11</th>\n",
              "      <th>Word 12</th>\n",
              "      <th>Word 13</th>\n",
              "      <th>Word 14</th>\n",
              "      <th>Word 15</th>\n",
              "    </tr>\n",
              "  </thead>\n",
              "  <tbody>\n",
              "    <tr>\n",
              "      <th>Topic 1</th>\n",
              "      <td>account</td>\n",
              "      <td>bank</td>\n",
              "      <td>check</td>\n",
              "      <td>money</td>\n",
              "      <td>fund</td>\n",
              "      <td>chase</td>\n",
              "      <td>deposit</td>\n",
              "      <td>branch</td>\n",
              "      <td>day</td>\n",
              "      <td>number</td>\n",
              "      <td>business</td>\n",
              "      <td>transaction</td>\n",
              "      <td>checking</td>\n",
              "      <td>claim</td>\n",
              "      <td>transfer</td>\n",
              "    </tr>\n",
              "    <tr>\n",
              "      <th>Topic 2</th>\n",
              "      <td>credit</td>\n",
              "      <td>card</td>\n",
              "      <td>report</td>\n",
              "      <td>inquiry</td>\n",
              "      <td>chase</td>\n",
              "      <td>account</td>\n",
              "      <td>score</td>\n",
              "      <td>company</td>\n",
              "      <td>limit</td>\n",
              "      <td>information</td>\n",
              "      <td>debt</td>\n",
              "      <td>application</td>\n",
              "      <td>letter</td>\n",
              "      <td>year</td>\n",
              "      <td>balance</td>\n",
              "    </tr>\n",
              "    <tr>\n",
              "      <th>Topic 3</th>\n",
              "      <td>payment</td>\n",
              "      <td>balance</td>\n",
              "      <td>month</td>\n",
              "      <td>fee</td>\n",
              "      <td>statement</td>\n",
              "      <td>day</td>\n",
              "      <td>time</td>\n",
              "      <td>auto</td>\n",
              "      <td>date</td>\n",
              "      <td>pay</td>\n",
              "      <td>credit</td>\n",
              "      <td>account</td>\n",
              "      <td>chase</td>\n",
              "      <td>year</td>\n",
              "      <td>mortgage</td>\n",
              "    </tr>\n",
              "    <tr>\n",
              "      <th>Topic 4</th>\n",
              "      <td>charge</td>\n",
              "      <td>card</td>\n",
              "      <td>fee</td>\n",
              "      <td>transaction</td>\n",
              "      <td>dispute</td>\n",
              "      <td>chase</td>\n",
              "      <td>merchant</td>\n",
              "      <td>fraud</td>\n",
              "      <td>purchase</td>\n",
              "      <td>claim</td>\n",
              "      <td>service</td>\n",
              "      <td>time</td>\n",
              "      <td>statement</td>\n",
              "      <td>refund</td>\n",
              "      <td>company</td>\n",
              "    </tr>\n",
              "    <tr>\n",
              "      <th>Topic 5</th>\n",
              "      <td>loan</td>\n",
              "      <td>mortgage</td>\n",
              "      <td>home</td>\n",
              "      <td>modification</td>\n",
              "      <td>chase</td>\n",
              "      <td>property</td>\n",
              "      <td>year</td>\n",
              "      <td>letter</td>\n",
              "      <td>rate</td>\n",
              "      <td>time</td>\n",
              "      <td>document</td>\n",
              "      <td>bank</td>\n",
              "      <td>house</td>\n",
              "      <td>foreclosure</td>\n",
              "      <td>sale</td>\n",
              "    </tr>\n",
              "  </tbody>\n",
              "</table>\n",
              "</div>\n",
              "      <button class=\"colab-df-convert\" onclick=\"convertToInteractive('df-f7ee3db5-1986-4158-83a1-bd087eb0e674')\"\n",
              "              title=\"Convert this dataframe to an interactive table.\"\n",
              "              style=\"display:none;\">\n",
              "        \n",
              "  <svg xmlns=\"http://www.w3.org/2000/svg\" height=\"24px\"viewBox=\"0 0 24 24\"\n",
              "       width=\"24px\">\n",
              "    <path d=\"M0 0h24v24H0V0z\" fill=\"none\"/>\n",
              "    <path d=\"M18.56 5.44l.94 2.06.94-2.06 2.06-.94-2.06-.94-.94-2.06-.94 2.06-2.06.94zm-11 1L8.5 8.5l.94-2.06 2.06-.94-2.06-.94L8.5 2.5l-.94 2.06-2.06.94zm10 10l.94 2.06.94-2.06 2.06-.94-2.06-.94-.94-2.06-.94 2.06-2.06.94z\"/><path d=\"M17.41 7.96l-1.37-1.37c-.4-.4-.92-.59-1.43-.59-.52 0-1.04.2-1.43.59L10.3 9.45l-7.72 7.72c-.78.78-.78 2.05 0 2.83L4 21.41c.39.39.9.59 1.41.59.51 0 1.02-.2 1.41-.59l7.78-7.78 2.81-2.81c.8-.78.8-2.07 0-2.86zM5.41 20L4 18.59l7.72-7.72 1.47 1.35L5.41 20z\"/>\n",
              "  </svg>\n",
              "      </button>\n",
              "      \n",
              "  <style>\n",
              "    .colab-df-container {\n",
              "      display:flex;\n",
              "      flex-wrap:wrap;\n",
              "      gap: 12px;\n",
              "    }\n",
              "\n",
              "    .colab-df-convert {\n",
              "      background-color: #E8F0FE;\n",
              "      border: none;\n",
              "      border-radius: 50%;\n",
              "      cursor: pointer;\n",
              "      display: none;\n",
              "      fill: #1967D2;\n",
              "      height: 32px;\n",
              "      padding: 0 0 0 0;\n",
              "      width: 32px;\n",
              "    }\n",
              "\n",
              "    .colab-df-convert:hover {\n",
              "      background-color: #E2EBFA;\n",
              "      box-shadow: 0px 1px 2px rgba(60, 64, 67, 0.3), 0px 1px 3px 1px rgba(60, 64, 67, 0.15);\n",
              "      fill: #174EA6;\n",
              "    }\n",
              "\n",
              "    [theme=dark] .colab-df-convert {\n",
              "      background-color: #3B4455;\n",
              "      fill: #D2E3FC;\n",
              "    }\n",
              "\n",
              "    [theme=dark] .colab-df-convert:hover {\n",
              "      background-color: #434B5C;\n",
              "      box-shadow: 0px 1px 3px 1px rgba(0, 0, 0, 0.15);\n",
              "      filter: drop-shadow(0px 1px 2px rgba(0, 0, 0, 0.3));\n",
              "      fill: #FFFFFF;\n",
              "    }\n",
              "  </style>\n",
              "\n",
              "      <script>\n",
              "        const buttonEl =\n",
              "          document.querySelector('#df-f7ee3db5-1986-4158-83a1-bd087eb0e674 button.colab-df-convert');\n",
              "        buttonEl.style.display =\n",
              "          google.colab.kernel.accessAllowed ? 'block' : 'none';\n",
              "\n",
              "        async function convertToInteractive(key) {\n",
              "          const element = document.querySelector('#df-f7ee3db5-1986-4158-83a1-bd087eb0e674');\n",
              "          const dataTable =\n",
              "            await google.colab.kernel.invokeFunction('convertToInteractive',\n",
              "                                                     [key], {});\n",
              "          if (!dataTable) return;\n",
              "\n",
              "          const docLinkHtml = 'Like what you see? Visit the ' +\n",
              "            '<a target=\"_blank\" href=https://colab.research.google.com/notebooks/data_table.ipynb>data table notebook</a>'\n",
              "            + ' to learn more about interactive tables.';\n",
              "          element.innerHTML = '';\n",
              "          dataTable['output_type'] = 'display_data';\n",
              "          await google.colab.output.renderOutput(dataTable, element);\n",
              "          const docLink = document.createElement('div');\n",
              "          docLink.innerHTML = docLinkHtml;\n",
              "          element.appendChild(docLink);\n",
              "        }\n",
              "      </script>\n",
              "    </div>\n",
              "  </div>\n",
              "  "
            ]
          },
          "metadata": {},
          "execution_count": 41
        }
      ],
      "source": [
        "#Print the Top15 words for each of the topics\n",
        "words = np.array(tfidf.get_feature_names())\n",
        "topic_words = pd.DataFrame(np.zeros((num_topics, 15)), index=[f'Topic {i + 1}' for i in range(num_topics)],\n",
        "                           columns=[f'Word {i + 1}' for i in range(15)]).astype(str)\n",
        "for i in range(num_topics):\n",
        "    ix = H[i].argsort()[::-1][:15]\n",
        "    topic_words.iloc[i] = words[ix]\n",
        "\n",
        "topic_words"
      ]
    },
    {
      "cell_type": "code",
      "execution_count": 42,
      "metadata": {
        "id": "0OIT7LmFJrGF"
      },
      "outputs": [],
      "source": [
        "#Create the best topic for each complaint in terms of integer value 0,1,2,3 & 4\n",
        "topic_results = nmf_model.transform(dtm)\n"
      ]
    },
    {
      "cell_type": "code",
      "execution_count": 43,
      "metadata": {
        "id": "peyYv-ORJrGF"
      },
      "outputs": [],
      "source": [
        "#Assign the best topic to each of the cmplaints in Topic Column\n",
        "\n",
        "df_clean['Topic'] = topic_results.argmax(axis=1)"
      ]
    },
    {
      "cell_type": "code",
      "source": [
        "df_clean.shape"
      ],
      "metadata": {
        "colab": {
          "base_uri": "https://localhost:8080/"
        },
        "id": "7lmnaKaEp-kK",
        "outputId": "aad565d1-09ed-4e9b-84f5-e04f44dac104"
      },
      "execution_count": 44,
      "outputs": [
        {
          "output_type": "execute_result",
          "data": {
            "text/plain": [
              "(21072, 5)"
            ]
          },
          "metadata": {},
          "execution_count": 44
        }
      ]
    },
    {
      "cell_type": "code",
      "execution_count": 45,
      "metadata": {
        "id": "fLh_Gf3nJrGF",
        "colab": {
          "base_uri": "https://localhost:8080/",
          "height": 206
        },
        "outputId": "0b1c2010-091f-4979-9044-512359ef7e73"
      },
      "outputs": [
        {
          "output_type": "execute_result",
          "data": {
            "text/plain": [
              "                              complaint_what_happened  \\\n",
              "1   good morning my name is xxxx xxxx and i apprec...   \n",
              "2   i upgraded my xxxx xxxx card in  and was told ...   \n",
              "10  chase card was reported on  however fraudulent...   \n",
              "11  on  while trying to book a xxxx  xxxx  ticket ...   \n",
              "14  my grand son give me check for  i deposit it i...   \n",
              "\n",
              "                                 complaint_lemmatized  \\\n",
              "1   good morning my name be xxxx xxxx and I apprec...   \n",
              "2   I upgrade my xxxx xxxx card in   and be tell b...   \n",
              "10  chase card be report on   however fraudulent a...   \n",
              "11  on   while try to book a xxxx   xxxx   ticket ...   \n",
              "14  my grand son give I check for   I deposit it i...   \n",
              "\n",
              "                                complaint_POS_removed  \\\n",
              "1   morning name stop bank cardmember service ask ...   \n",
              "2   card agent upgrade date agent information orde...   \n",
              "10  card report application identity consent servi...   \n",
              "11  try book xxxx ticket offer ticket card informa...   \n",
              "14  son chase account fund bank account pay money ...   \n",
              "\n",
              "                                      Complaint_clean  Topic  \n",
              "1   morning name stop bank cardmember service ask ...      0  \n",
              "2   card agent upgrade date agent information orde...      1  \n",
              "10  card report application identity consent servi...      1  \n",
              "11  try book  ticket offer ticket card information...      1  \n",
              "14  son chase account fund bank account pay money ...      0  "
            ],
            "text/html": [
              "\n",
              "  <div id=\"df-817255dc-3878-41a3-974e-412576a8ec2b\">\n",
              "    <div class=\"colab-df-container\">\n",
              "      <div>\n",
              "<style scoped>\n",
              "    .dataframe tbody tr th:only-of-type {\n",
              "        vertical-align: middle;\n",
              "    }\n",
              "\n",
              "    .dataframe tbody tr th {\n",
              "        vertical-align: top;\n",
              "    }\n",
              "\n",
              "    .dataframe thead th {\n",
              "        text-align: right;\n",
              "    }\n",
              "</style>\n",
              "<table border=\"1\" class=\"dataframe\">\n",
              "  <thead>\n",
              "    <tr style=\"text-align: right;\">\n",
              "      <th></th>\n",
              "      <th>complaint_what_happened</th>\n",
              "      <th>complaint_lemmatized</th>\n",
              "      <th>complaint_POS_removed</th>\n",
              "      <th>Complaint_clean</th>\n",
              "      <th>Topic</th>\n",
              "    </tr>\n",
              "  </thead>\n",
              "  <tbody>\n",
              "    <tr>\n",
              "      <th>1</th>\n",
              "      <td>good morning my name is xxxx xxxx and i apprec...</td>\n",
              "      <td>good morning my name be xxxx xxxx and I apprec...</td>\n",
              "      <td>morning name stop bank cardmember service ask ...</td>\n",
              "      <td>morning name stop bank cardmember service ask ...</td>\n",
              "      <td>0</td>\n",
              "    </tr>\n",
              "    <tr>\n",
              "      <th>2</th>\n",
              "      <td>i upgraded my xxxx xxxx card in  and was told ...</td>\n",
              "      <td>I upgrade my xxxx xxxx card in   and be tell b...</td>\n",
              "      <td>card agent upgrade date agent information orde...</td>\n",
              "      <td>card agent upgrade date agent information orde...</td>\n",
              "      <td>1</td>\n",
              "    </tr>\n",
              "    <tr>\n",
              "      <th>10</th>\n",
              "      <td>chase card was reported on  however fraudulent...</td>\n",
              "      <td>chase card be report on   however fraudulent a...</td>\n",
              "      <td>card report application identity consent servi...</td>\n",
              "      <td>card report application identity consent servi...</td>\n",
              "      <td>1</td>\n",
              "    </tr>\n",
              "    <tr>\n",
              "      <th>11</th>\n",
              "      <td>on  while trying to book a xxxx  xxxx  ticket ...</td>\n",
              "      <td>on   while try to book a xxxx   xxxx   ticket ...</td>\n",
              "      <td>try book xxxx ticket offer ticket card informa...</td>\n",
              "      <td>try book  ticket offer ticket card information...</td>\n",
              "      <td>1</td>\n",
              "    </tr>\n",
              "    <tr>\n",
              "      <th>14</th>\n",
              "      <td>my grand son give me check for  i deposit it i...</td>\n",
              "      <td>my grand son give I check for   I deposit it i...</td>\n",
              "      <td>son chase account fund bank account pay money ...</td>\n",
              "      <td>son chase account fund bank account pay money ...</td>\n",
              "      <td>0</td>\n",
              "    </tr>\n",
              "  </tbody>\n",
              "</table>\n",
              "</div>\n",
              "      <button class=\"colab-df-convert\" onclick=\"convertToInteractive('df-817255dc-3878-41a3-974e-412576a8ec2b')\"\n",
              "              title=\"Convert this dataframe to an interactive table.\"\n",
              "              style=\"display:none;\">\n",
              "        \n",
              "  <svg xmlns=\"http://www.w3.org/2000/svg\" height=\"24px\"viewBox=\"0 0 24 24\"\n",
              "       width=\"24px\">\n",
              "    <path d=\"M0 0h24v24H0V0z\" fill=\"none\"/>\n",
              "    <path d=\"M18.56 5.44l.94 2.06.94-2.06 2.06-.94-2.06-.94-.94-2.06-.94 2.06-2.06.94zm-11 1L8.5 8.5l.94-2.06 2.06-.94-2.06-.94L8.5 2.5l-.94 2.06-2.06.94zm10 10l.94 2.06.94-2.06 2.06-.94-2.06-.94-.94-2.06-.94 2.06-2.06.94z\"/><path d=\"M17.41 7.96l-1.37-1.37c-.4-.4-.92-.59-1.43-.59-.52 0-1.04.2-1.43.59L10.3 9.45l-7.72 7.72c-.78.78-.78 2.05 0 2.83L4 21.41c.39.39.9.59 1.41.59.51 0 1.02-.2 1.41-.59l7.78-7.78 2.81-2.81c.8-.78.8-2.07 0-2.86zM5.41 20L4 18.59l7.72-7.72 1.47 1.35L5.41 20z\"/>\n",
              "  </svg>\n",
              "      </button>\n",
              "      \n",
              "  <style>\n",
              "    .colab-df-container {\n",
              "      display:flex;\n",
              "      flex-wrap:wrap;\n",
              "      gap: 12px;\n",
              "    }\n",
              "\n",
              "    .colab-df-convert {\n",
              "      background-color: #E8F0FE;\n",
              "      border: none;\n",
              "      border-radius: 50%;\n",
              "      cursor: pointer;\n",
              "      display: none;\n",
              "      fill: #1967D2;\n",
              "      height: 32px;\n",
              "      padding: 0 0 0 0;\n",
              "      width: 32px;\n",
              "    }\n",
              "\n",
              "    .colab-df-convert:hover {\n",
              "      background-color: #E2EBFA;\n",
              "      box-shadow: 0px 1px 2px rgba(60, 64, 67, 0.3), 0px 1px 3px 1px rgba(60, 64, 67, 0.15);\n",
              "      fill: #174EA6;\n",
              "    }\n",
              "\n",
              "    [theme=dark] .colab-df-convert {\n",
              "      background-color: #3B4455;\n",
              "      fill: #D2E3FC;\n",
              "    }\n",
              "\n",
              "    [theme=dark] .colab-df-convert:hover {\n",
              "      background-color: #434B5C;\n",
              "      box-shadow: 0px 1px 3px 1px rgba(0, 0, 0, 0.15);\n",
              "      filter: drop-shadow(0px 1px 2px rgba(0, 0, 0, 0.3));\n",
              "      fill: #FFFFFF;\n",
              "    }\n",
              "  </style>\n",
              "\n",
              "      <script>\n",
              "        const buttonEl =\n",
              "          document.querySelector('#df-817255dc-3878-41a3-974e-412576a8ec2b button.colab-df-convert');\n",
              "        buttonEl.style.display =\n",
              "          google.colab.kernel.accessAllowed ? 'block' : 'none';\n",
              "\n",
              "        async function convertToInteractive(key) {\n",
              "          const element = document.querySelector('#df-817255dc-3878-41a3-974e-412576a8ec2b');\n",
              "          const dataTable =\n",
              "            await google.colab.kernel.invokeFunction('convertToInteractive',\n",
              "                                                     [key], {});\n",
              "          if (!dataTable) return;\n",
              "\n",
              "          const docLinkHtml = 'Like what you see? Visit the ' +\n",
              "            '<a target=\"_blank\" href=https://colab.research.google.com/notebooks/data_table.ipynb>data table notebook</a>'\n",
              "            + ' to learn more about interactive tables.';\n",
              "          element.innerHTML = '';\n",
              "          dataTable['output_type'] = 'display_data';\n",
              "          await google.colab.output.renderOutput(dataTable, element);\n",
              "          const docLink = document.createElement('div');\n",
              "          docLink.innerHTML = docLinkHtml;\n",
              "          element.appendChild(docLink);\n",
              "        }\n",
              "      </script>\n",
              "    </div>\n",
              "  </div>\n",
              "  "
            ]
          },
          "metadata": {},
          "execution_count": 45
        }
      ],
      "source": [
        "df_clean.head()"
      ]
    },
    {
      "cell_type": "code",
      "execution_count": 46,
      "metadata": {
        "id": "aQKpufSPJrGG",
        "colab": {
          "base_uri": "https://localhost:8080/",
          "height": 833
        },
        "outputId": "926a1745-eaa9-4c08-e444-359cd740ada0"
      },
      "outputs": [
        {
          "output_type": "execute_result",
          "data": {
            "text/plain": [
              "                               complaint_what_happened  \\\n",
              "1    good morning my name is xxxx xxxx and i apprec...   \n",
              "14   my grand son give me check for  i deposit it i...   \n",
              "17   with out notice jp morgan chase restricted my ...   \n",
              "24   mishandling of this account by chase auto and ...   \n",
              "27   i opened an account with chase bank on xxxx an...   \n",
              "2    i upgraded my xxxx xxxx card in  and was told ...   \n",
              "10   chase card was reported on  however fraudulent...   \n",
              "11   on  while trying to book a xxxx  xxxx  ticket ...   \n",
              "15                       can you please remove inquiry   \n",
              "23   i have a chase credit card which is incorrectl...   \n",
              "82   i recently called to ask chase bank why they r...   \n",
              "58   i made a purchase of  on xxxxxxxx i made payme...   \n",
              "167  a double payment from my chase debt cart to ch...   \n",
              "20   during the summer months i experience a declin...   \n",
              "141  action taken by the company between the dates ...   \n",
              "32   my chase amazon card was declined for a cateri...   \n",
              "40   xxxx xxxx a sofa love seat table and chairs an...   \n",
              "45   i made a purchase with xxxx xxxx xxxx on  in t...   \n",
              "21   on xxxx  i made a  payment to an online retail...   \n",
              "30   to whom it may concern chase bank charged wron...   \n",
              "48   jp morgan chase bank please answer the followi...   \n",
              "57   i have been trying to do a loan modification w...   \n",
              "73   i have wired through one of chase branches in ...   \n",
              "81   i bought a new xxxx xxxx on xxxxxxxx from xxxx...   \n",
              "99   my name is xxxx xxxx i have missed a payment i...   \n",
              "\n",
              "                                  complaint_lemmatized  \\\n",
              "1    good morning my name be xxxx xxxx and I apprec...   \n",
              "14   my grand son give I check for   I deposit it i...   \n",
              "17   with out notice jp morgan chase restrict my ac...   \n",
              "24    mishandle of this account by chase auto and xxxx   \n",
              "27   I open an account with chase bank on xxxx and ...   \n",
              "2    I upgrade my xxxx xxxx card in   and be tell b...   \n",
              "10   chase card be report on   however fraudulent a...   \n",
              "11   on   while try to book a xxxx   xxxx   ticket ...   \n",
              "15                       can you please remove inquiry   \n",
              "23   I have a chase credit card which be incorrectl...   \n",
              "82   I recently call to ask chase bank why they rep...   \n",
              "58   I make a purchase of   on xxxxxxxx I make paym...   \n",
              "167  a double payment from my chase debt cart to ch...   \n",
              "20   during the summer month I experience a decline...   \n",
              "141  action take by the company between the date of...   \n",
              "32   my chase amazon card be decline for a catering...   \n",
              "40   xxxx xxxx a sofa love seat table and chair and...   \n",
              "45   I make a purchase with xxxx xxxx xxxx on   in ...   \n",
              "21   on xxxx   I make a   payment to an online reta...   \n",
              "30   to whom it may concern chase bank charge wrong...   \n",
              "48   jp morgan chase bank please answer the follow ...   \n",
              "57   I have be try to do a loan modification with c...   \n",
              "73   I have wire through one of chase branch in xxx...   \n",
              "81   I buy a new xxxx xxxx on xxxxxxxx from xxxx xx...   \n",
              "99   my name be xxxx xxxx I have miss a payment in ...   \n",
              "\n",
              "                                 complaint_POS_removed  \\\n",
              "1    morning name stop bank cardmember service ask ...   \n",
              "14   son chase account fund bank account pay money ...   \n",
              "17   jp chase account debit card tuesday thursday b...   \n",
              "24                         mishandle account auto xxxx   \n",
              "27   account bank code bonus term everything accoun...   \n",
              "2    card agent upgrade date agent information orde...   \n",
              "10   card report application identity consent servi...   \n",
              "11   try book xxxx ticket offer ticket card informa...   \n",
              "15                                             inquiry   \n",
              "23   chase credit card datum credit report company ...   \n",
              "82   bank credit bureau day payment info xxxx bill ...   \n",
              "58   purchase xxxxxxxx payment xxxxxxxx payment clo...   \n",
              "167  payment debt cart credit card post request day...   \n",
              "20   summer month income employment month payment e...   \n",
              "141  action company date individual group contact c...   \n",
              "32   chase card decline catering order place brothe...   \n",
              "40   xxxx love seat table chair charge bank claim f...   \n",
              "45   purchase amount transaction dispute case bank ...   \n",
              "21   xxxx payment online retailer use pay xxxx chas...   \n",
              "30   concern bank charge fee balance fee balance tr...   \n",
              "48   jp bank please question xxxxxxxx access inform...   \n",
              "57       loan modification chase runaround payment doc   \n",
              "73   chase branch reinstatement amount bank order f...   \n",
              "81   xxxx xxxxxxxx loan title time resolution time ...   \n",
              "99   name xxxx payment day time loan modification l...   \n",
              "\n",
              "                                       Complaint_clean  Topic  \n",
              "1    morning name stop bank cardmember service ask ...      0  \n",
              "14   son chase account fund bank account pay money ...      0  \n",
              "17   jp chase account debit card tuesday thursday b...      0  \n",
              "24                             mishandle account auto       0  \n",
              "27   account bank code bonus term everything accoun...      0  \n",
              "2    card agent upgrade date agent information orde...      1  \n",
              "10   card report application identity consent servi...      1  \n",
              "11   try book  ticket offer ticket card information...      1  \n",
              "15                                             inquiry      1  \n",
              "23   chase credit card datum credit report company ...      1  \n",
              "82   bank credit bureau day payment info  bill bala...      2  \n",
              "58   purchase  payment  payment closing date please...      2  \n",
              "167  payment debt cart credit card post request day...      2  \n",
              "20   summer month income employment month payment e...      2  \n",
              "141  action company date individual group contact c...      2  \n",
              "32   chase card decline catering order place brothe...      3  \n",
              "40    love seat table chair charge bank claim furni...      3  \n",
              "45   purchase amount transaction dispute case bank ...      3  \n",
              "21    payment online retailer use pay  chase websit...      3  \n",
              "30   concern bank charge fee balance fee balance tr...      3  \n",
              "48   jp bank please question  access information re...      4  \n",
              "57       loan modification chase runaround payment doc      4  \n",
              "73   chase branch reinstatement amount bank order f...      4  \n",
              "81     loan title time resolution time nothing stat...      4  \n",
              "99   name  payment day time loan modification loss ...      4  "
            ],
            "text/html": [
              "\n",
              "  <div id=\"df-8e6fe1c6-1137-4546-9d59-2cb9725f288d\">\n",
              "    <div class=\"colab-df-container\">\n",
              "      <div>\n",
              "<style scoped>\n",
              "    .dataframe tbody tr th:only-of-type {\n",
              "        vertical-align: middle;\n",
              "    }\n",
              "\n",
              "    .dataframe tbody tr th {\n",
              "        vertical-align: top;\n",
              "    }\n",
              "\n",
              "    .dataframe thead th {\n",
              "        text-align: right;\n",
              "    }\n",
              "</style>\n",
              "<table border=\"1\" class=\"dataframe\">\n",
              "  <thead>\n",
              "    <tr style=\"text-align: right;\">\n",
              "      <th></th>\n",
              "      <th>complaint_what_happened</th>\n",
              "      <th>complaint_lemmatized</th>\n",
              "      <th>complaint_POS_removed</th>\n",
              "      <th>Complaint_clean</th>\n",
              "      <th>Topic</th>\n",
              "    </tr>\n",
              "  </thead>\n",
              "  <tbody>\n",
              "    <tr>\n",
              "      <th>1</th>\n",
              "      <td>good morning my name is xxxx xxxx and i apprec...</td>\n",
              "      <td>good morning my name be xxxx xxxx and I apprec...</td>\n",
              "      <td>morning name stop bank cardmember service ask ...</td>\n",
              "      <td>morning name stop bank cardmember service ask ...</td>\n",
              "      <td>0</td>\n",
              "    </tr>\n",
              "    <tr>\n",
              "      <th>14</th>\n",
              "      <td>my grand son give me check for  i deposit it i...</td>\n",
              "      <td>my grand son give I check for   I deposit it i...</td>\n",
              "      <td>son chase account fund bank account pay money ...</td>\n",
              "      <td>son chase account fund bank account pay money ...</td>\n",
              "      <td>0</td>\n",
              "    </tr>\n",
              "    <tr>\n",
              "      <th>17</th>\n",
              "      <td>with out notice jp morgan chase restricted my ...</td>\n",
              "      <td>with out notice jp morgan chase restrict my ac...</td>\n",
              "      <td>jp chase account debit card tuesday thursday b...</td>\n",
              "      <td>jp chase account debit card tuesday thursday b...</td>\n",
              "      <td>0</td>\n",
              "    </tr>\n",
              "    <tr>\n",
              "      <th>24</th>\n",
              "      <td>mishandling of this account by chase auto and ...</td>\n",
              "      <td>mishandle of this account by chase auto and xxxx</td>\n",
              "      <td>mishandle account auto xxxx</td>\n",
              "      <td>mishandle account auto</td>\n",
              "      <td>0</td>\n",
              "    </tr>\n",
              "    <tr>\n",
              "      <th>27</th>\n",
              "      <td>i opened an account with chase bank on xxxx an...</td>\n",
              "      <td>I open an account with chase bank on xxxx and ...</td>\n",
              "      <td>account bank code bonus term everything accoun...</td>\n",
              "      <td>account bank code bonus term everything accoun...</td>\n",
              "      <td>0</td>\n",
              "    </tr>\n",
              "    <tr>\n",
              "      <th>2</th>\n",
              "      <td>i upgraded my xxxx xxxx card in  and was told ...</td>\n",
              "      <td>I upgrade my xxxx xxxx card in   and be tell b...</td>\n",
              "      <td>card agent upgrade date agent information orde...</td>\n",
              "      <td>card agent upgrade date agent information orde...</td>\n",
              "      <td>1</td>\n",
              "    </tr>\n",
              "    <tr>\n",
              "      <th>10</th>\n",
              "      <td>chase card was reported on  however fraudulent...</td>\n",
              "      <td>chase card be report on   however fraudulent a...</td>\n",
              "      <td>card report application identity consent servi...</td>\n",
              "      <td>card report application identity consent servi...</td>\n",
              "      <td>1</td>\n",
              "    </tr>\n",
              "    <tr>\n",
              "      <th>11</th>\n",
              "      <td>on  while trying to book a xxxx  xxxx  ticket ...</td>\n",
              "      <td>on   while try to book a xxxx   xxxx   ticket ...</td>\n",
              "      <td>try book xxxx ticket offer ticket card informa...</td>\n",
              "      <td>try book  ticket offer ticket card information...</td>\n",
              "      <td>1</td>\n",
              "    </tr>\n",
              "    <tr>\n",
              "      <th>15</th>\n",
              "      <td>can you please remove inquiry</td>\n",
              "      <td>can you please remove inquiry</td>\n",
              "      <td>inquiry</td>\n",
              "      <td>inquiry</td>\n",
              "      <td>1</td>\n",
              "    </tr>\n",
              "    <tr>\n",
              "      <th>23</th>\n",
              "      <td>i have a chase credit card which is incorrectl...</td>\n",
              "      <td>I have a chase credit card which be incorrectl...</td>\n",
              "      <td>chase credit card datum credit report company ...</td>\n",
              "      <td>chase credit card datum credit report company ...</td>\n",
              "      <td>1</td>\n",
              "    </tr>\n",
              "    <tr>\n",
              "      <th>82</th>\n",
              "      <td>i recently called to ask chase bank why they r...</td>\n",
              "      <td>I recently call to ask chase bank why they rep...</td>\n",
              "      <td>bank credit bureau day payment info xxxx bill ...</td>\n",
              "      <td>bank credit bureau day payment info  bill bala...</td>\n",
              "      <td>2</td>\n",
              "    </tr>\n",
              "    <tr>\n",
              "      <th>58</th>\n",
              "      <td>i made a purchase of  on xxxxxxxx i made payme...</td>\n",
              "      <td>I make a purchase of   on xxxxxxxx I make paym...</td>\n",
              "      <td>purchase xxxxxxxx payment xxxxxxxx payment clo...</td>\n",
              "      <td>purchase  payment  payment closing date please...</td>\n",
              "      <td>2</td>\n",
              "    </tr>\n",
              "    <tr>\n",
              "      <th>167</th>\n",
              "      <td>a double payment from my chase debt cart to ch...</td>\n",
              "      <td>a double payment from my chase debt cart to ch...</td>\n",
              "      <td>payment debt cart credit card post request day...</td>\n",
              "      <td>payment debt cart credit card post request day...</td>\n",
              "      <td>2</td>\n",
              "    </tr>\n",
              "    <tr>\n",
              "      <th>20</th>\n",
              "      <td>during the summer months i experience a declin...</td>\n",
              "      <td>during the summer month I experience a decline...</td>\n",
              "      <td>summer month income employment month payment e...</td>\n",
              "      <td>summer month income employment month payment e...</td>\n",
              "      <td>2</td>\n",
              "    </tr>\n",
              "    <tr>\n",
              "      <th>141</th>\n",
              "      <td>action taken by the company between the dates ...</td>\n",
              "      <td>action take by the company between the date of...</td>\n",
              "      <td>action company date individual group contact c...</td>\n",
              "      <td>action company date individual group contact c...</td>\n",
              "      <td>2</td>\n",
              "    </tr>\n",
              "    <tr>\n",
              "      <th>32</th>\n",
              "      <td>my chase amazon card was declined for a cateri...</td>\n",
              "      <td>my chase amazon card be decline for a catering...</td>\n",
              "      <td>chase card decline catering order place brothe...</td>\n",
              "      <td>chase card decline catering order place brothe...</td>\n",
              "      <td>3</td>\n",
              "    </tr>\n",
              "    <tr>\n",
              "      <th>40</th>\n",
              "      <td>xxxx xxxx a sofa love seat table and chairs an...</td>\n",
              "      <td>xxxx xxxx a sofa love seat table and chair and...</td>\n",
              "      <td>xxxx love seat table chair charge bank claim f...</td>\n",
              "      <td>love seat table chair charge bank claim furni...</td>\n",
              "      <td>3</td>\n",
              "    </tr>\n",
              "    <tr>\n",
              "      <th>45</th>\n",
              "      <td>i made a purchase with xxxx xxxx xxxx on  in t...</td>\n",
              "      <td>I make a purchase with xxxx xxxx xxxx on   in ...</td>\n",
              "      <td>purchase amount transaction dispute case bank ...</td>\n",
              "      <td>purchase amount transaction dispute case bank ...</td>\n",
              "      <td>3</td>\n",
              "    </tr>\n",
              "    <tr>\n",
              "      <th>21</th>\n",
              "      <td>on xxxx  i made a  payment to an online retail...</td>\n",
              "      <td>on xxxx   I make a   payment to an online reta...</td>\n",
              "      <td>xxxx payment online retailer use pay xxxx chas...</td>\n",
              "      <td>payment online retailer use pay  chase websit...</td>\n",
              "      <td>3</td>\n",
              "    </tr>\n",
              "    <tr>\n",
              "      <th>30</th>\n",
              "      <td>to whom it may concern chase bank charged wron...</td>\n",
              "      <td>to whom it may concern chase bank charge wrong...</td>\n",
              "      <td>concern bank charge fee balance fee balance tr...</td>\n",
              "      <td>concern bank charge fee balance fee balance tr...</td>\n",
              "      <td>3</td>\n",
              "    </tr>\n",
              "    <tr>\n",
              "      <th>48</th>\n",
              "      <td>jp morgan chase bank please answer the followi...</td>\n",
              "      <td>jp morgan chase bank please answer the follow ...</td>\n",
              "      <td>jp bank please question xxxxxxxx access inform...</td>\n",
              "      <td>jp bank please question  access information re...</td>\n",
              "      <td>4</td>\n",
              "    </tr>\n",
              "    <tr>\n",
              "      <th>57</th>\n",
              "      <td>i have been trying to do a loan modification w...</td>\n",
              "      <td>I have be try to do a loan modification with c...</td>\n",
              "      <td>loan modification chase runaround payment doc</td>\n",
              "      <td>loan modification chase runaround payment doc</td>\n",
              "      <td>4</td>\n",
              "    </tr>\n",
              "    <tr>\n",
              "      <th>73</th>\n",
              "      <td>i have wired through one of chase branches in ...</td>\n",
              "      <td>I have wire through one of chase branch in xxx...</td>\n",
              "      <td>chase branch reinstatement amount bank order f...</td>\n",
              "      <td>chase branch reinstatement amount bank order f...</td>\n",
              "      <td>4</td>\n",
              "    </tr>\n",
              "    <tr>\n",
              "      <th>81</th>\n",
              "      <td>i bought a new xxxx xxxx on xxxxxxxx from xxxx...</td>\n",
              "      <td>I buy a new xxxx xxxx on xxxxxxxx from xxxx xx...</td>\n",
              "      <td>xxxx xxxxxxxx loan title time resolution time ...</td>\n",
              "      <td>loan title time resolution time nothing stat...</td>\n",
              "      <td>4</td>\n",
              "    </tr>\n",
              "    <tr>\n",
              "      <th>99</th>\n",
              "      <td>my name is xxxx xxxx i have missed a payment i...</td>\n",
              "      <td>my name be xxxx xxxx I have miss a payment in ...</td>\n",
              "      <td>name xxxx payment day time loan modification l...</td>\n",
              "      <td>name  payment day time loan modification loss ...</td>\n",
              "      <td>4</td>\n",
              "    </tr>\n",
              "  </tbody>\n",
              "</table>\n",
              "</div>\n",
              "      <button class=\"colab-df-convert\" onclick=\"convertToInteractive('df-8e6fe1c6-1137-4546-9d59-2cb9725f288d')\"\n",
              "              title=\"Convert this dataframe to an interactive table.\"\n",
              "              style=\"display:none;\">\n",
              "        \n",
              "  <svg xmlns=\"http://www.w3.org/2000/svg\" height=\"24px\"viewBox=\"0 0 24 24\"\n",
              "       width=\"24px\">\n",
              "    <path d=\"M0 0h24v24H0V0z\" fill=\"none\"/>\n",
              "    <path d=\"M18.56 5.44l.94 2.06.94-2.06 2.06-.94-2.06-.94-.94-2.06-.94 2.06-2.06.94zm-11 1L8.5 8.5l.94-2.06 2.06-.94-2.06-.94L8.5 2.5l-.94 2.06-2.06.94zm10 10l.94 2.06.94-2.06 2.06-.94-2.06-.94-.94-2.06-.94 2.06-2.06.94z\"/><path d=\"M17.41 7.96l-1.37-1.37c-.4-.4-.92-.59-1.43-.59-.52 0-1.04.2-1.43.59L10.3 9.45l-7.72 7.72c-.78.78-.78 2.05 0 2.83L4 21.41c.39.39.9.59 1.41.59.51 0 1.02-.2 1.41-.59l7.78-7.78 2.81-2.81c.8-.78.8-2.07 0-2.86zM5.41 20L4 18.59l7.72-7.72 1.47 1.35L5.41 20z\"/>\n",
              "  </svg>\n",
              "      </button>\n",
              "      \n",
              "  <style>\n",
              "    .colab-df-container {\n",
              "      display:flex;\n",
              "      flex-wrap:wrap;\n",
              "      gap: 12px;\n",
              "    }\n",
              "\n",
              "    .colab-df-convert {\n",
              "      background-color: #E8F0FE;\n",
              "      border: none;\n",
              "      border-radius: 50%;\n",
              "      cursor: pointer;\n",
              "      display: none;\n",
              "      fill: #1967D2;\n",
              "      height: 32px;\n",
              "      padding: 0 0 0 0;\n",
              "      width: 32px;\n",
              "    }\n",
              "\n",
              "    .colab-df-convert:hover {\n",
              "      background-color: #E2EBFA;\n",
              "      box-shadow: 0px 1px 2px rgba(60, 64, 67, 0.3), 0px 1px 3px 1px rgba(60, 64, 67, 0.15);\n",
              "      fill: #174EA6;\n",
              "    }\n",
              "\n",
              "    [theme=dark] .colab-df-convert {\n",
              "      background-color: #3B4455;\n",
              "      fill: #D2E3FC;\n",
              "    }\n",
              "\n",
              "    [theme=dark] .colab-df-convert:hover {\n",
              "      background-color: #434B5C;\n",
              "      box-shadow: 0px 1px 3px 1px rgba(0, 0, 0, 0.15);\n",
              "      filter: drop-shadow(0px 1px 2px rgba(0, 0, 0, 0.3));\n",
              "      fill: #FFFFFF;\n",
              "    }\n",
              "  </style>\n",
              "\n",
              "      <script>\n",
              "        const buttonEl =\n",
              "          document.querySelector('#df-8e6fe1c6-1137-4546-9d59-2cb9725f288d button.colab-df-convert');\n",
              "        buttonEl.style.display =\n",
              "          google.colab.kernel.accessAllowed ? 'block' : 'none';\n",
              "\n",
              "        async function convertToInteractive(key) {\n",
              "          const element = document.querySelector('#df-8e6fe1c6-1137-4546-9d59-2cb9725f288d');\n",
              "          const dataTable =\n",
              "            await google.colab.kernel.invokeFunction('convertToInteractive',\n",
              "                                                     [key], {});\n",
              "          if (!dataTable) return;\n",
              "\n",
              "          const docLinkHtml = 'Like what you see? Visit the ' +\n",
              "            '<a target=\"_blank\" href=https://colab.research.google.com/notebooks/data_table.ipynb>data table notebook</a>'\n",
              "            + ' to learn more about interactive tables.';\n",
              "          element.innerHTML = '';\n",
              "          dataTable['output_type'] = 'display_data';\n",
              "          await google.colab.output.renderOutput(dataTable, element);\n",
              "          const docLink = document.createElement('div');\n",
              "          docLink.innerHTML = docLinkHtml;\n",
              "          element.appendChild(docLink);\n",
              "        }\n",
              "      </script>\n",
              "    </div>\n",
              "  </div>\n",
              "  "
            ]
          },
          "metadata": {},
          "execution_count": 46
        }
      ],
      "source": [
        "#Print the first 5 Complaint for each of the Topics\n",
        "df_clean_5=df_clean.groupby('Topic').head(5)\n",
        "df_clean_5.sort_values('Topic')"
      ]
    },
    {
      "cell_type": "markdown",
      "metadata": {
        "id": "piyLxzj6v07j"
      },
      "source": [
        "#### After evaluating the mapping, if the topics assigned are correct then assign these names to the relevant topic:\n",
        "* Bank Account services\n",
        "* Credit card or prepaid card\n",
        "* Theft/Dispute Reporting\n",
        "* Mortgage/Loan\n",
        "* Others"
      ]
    },
    {
      "cell_type": "code",
      "execution_count": 47,
      "metadata": {
        "id": "TWpwDG4RJrGG"
      },
      "outputs": [],
      "source": [
        "#Create the dictionary of Topic names and Topics\n",
        "\n",
        "Topic_names = { 0:\"Bank account services\", 1:\"Credit card / Prepaid card\", 2:\"Others\",\n",
        "               3:\"Theft/Dispute reporting\", 4:\"Mortgages/loans\" }\n",
        "#Replace Topics with Topic Names\n",
        "df_clean['Topic'] = df_clean['Topic'].map(Topic_names)"
      ]
    },
    {
      "cell_type": "code",
      "execution_count": 48,
      "metadata": {
        "id": "-2ULY5K6JrGG",
        "colab": {
          "base_uri": "https://localhost:8080/"
        },
        "outputId": "1ebdc543-c8ee-4184-af64-193bf2bc06e5"
      },
      "outputs": [
        {
          "output_type": "execute_result",
          "data": {
            "text/plain": [
              "(21072, 5)"
            ]
          },
          "metadata": {},
          "execution_count": 48
        }
      ],
      "source": [
        "df_clean.shape"
      ]
    },
    {
      "cell_type": "markdown",
      "metadata": {
        "id": "7Mu0QBOcJrGH"
      },
      "source": [
        "## Supervised model to predict any new complaints to the relevant Topics.\n",
        "\n",
        "You have now build the model to create the topics for each complaints.Now in the below section you will use them to classify any new complaints.\n",
        "\n",
        "Since you will be using supervised learning technique we have to convert the topic names to numbers(numpy arrays only understand numbers)"
      ]
    },
    {
      "cell_type": "code",
      "execution_count": 49,
      "metadata": {
        "id": "_U8J3J8wJrGH"
      },
      "outputs": [],
      "source": [
        "#Create the dictionary again of Topic names and Topics\n",
        "Topic_names = { \"Bank account services\":0, \"Credit card / Prepaid card\":1, \"Others\":2,\n",
        "               \"Theft/Dispute reporting\":3, \"Mortgages/loans\":4 }\n",
        "#Replace Topics with Topic Names\n",
        "df_clean['Topic'] = df_clean['Topic'].map(Topic_names)"
      ]
    },
    {
      "cell_type": "code",
      "execution_count": 50,
      "metadata": {
        "id": "BWIgJUkQJrGH",
        "colab": {
          "base_uri": "https://localhost:8080/",
          "height": 424
        },
        "outputId": "0fe2e7c2-4fed-4fd4-895e-91df8dc0819a"
      },
      "outputs": [
        {
          "output_type": "execute_result",
          "data": {
            "text/plain": [
              "                                 complaint_what_happened  \\\n",
              "1      good morning my name is xxxx xxxx and i apprec...   \n",
              "2      i upgraded my xxxx xxxx card in  and was told ...   \n",
              "10     chase card was reported on  however fraudulent...   \n",
              "11     on  while trying to book a xxxx  xxxx  ticket ...   \n",
              "14     my grand son give me check for  i deposit it i...   \n",
              "...                                                  ...   \n",
              "78303  after being a chase card customer for well ove...   \n",
              "78309  on wednesday xxxxxxxx i called chas my xxxx xx...   \n",
              "78310  i am not familiar with xxxx pay and did not un...   \n",
              "78311  i have had flawless credit for  yrs ive had ch...   \n",
              "78312  roughly  years ago i closed out my accounts wi...   \n",
              "\n",
              "                                    complaint_lemmatized  \\\n",
              "1      good morning my name be xxxx xxxx and I apprec...   \n",
              "2      I upgrade my xxxx xxxx card in   and be tell b...   \n",
              "10     chase card be report on   however fraudulent a...   \n",
              "11     on   while try to book a xxxx   xxxx   ticket ...   \n",
              "14     my grand son give I check for   I deposit it i...   \n",
              "...                                                  ...   \n",
              "78303  after be a chase card customer for well over a...   \n",
              "78309  on wednesday xxxxxxxx I call chas my xxxx xxxx...   \n",
              "78310  I be not familiar with xxxx pay and do not und...   \n",
              "78311  I have have flawless credit for   yr I ve have...   \n",
              "78312  roughly   year ago I close out my account with...   \n",
              "\n",
              "                                   complaint_POS_removed  \\\n",
              "1      morning name stop bank cardmember service ask ...   \n",
              "2      card agent upgrade date agent information orde...   \n",
              "10     card report application identity consent servi...   \n",
              "11     try book xxxx ticket offer ticket card informa...   \n",
              "14     son chase account fund bank account pay money ...   \n",
              "...                                                  ...   \n",
              "78303  card customer decade solicitation credit card ...   \n",
              "78309  visa credit card provider claim purchase prote...   \n",
              "78310  pay risk provide consumer bank app chase year ...   \n",
              "78311  credit yr credit card chase freedom xxxx probl...   \n",
              "78312  year account jp bank xxxx order line credit ac...   \n",
              "\n",
              "                                         Complaint_clean  Topic  \n",
              "1      morning name stop bank cardmember service ask ...      0  \n",
              "2      card agent upgrade date agent information orde...      1  \n",
              "10     card report application identity consent servi...      1  \n",
              "11     try book  ticket offer ticket card information...      1  \n",
              "14     son chase account fund bank account pay money ...      0  \n",
              "...                                                  ...    ...  \n",
              "78303  card customer decade solicitation credit card ...      1  \n",
              "78309  visa credit card provider claim purchase prote...      3  \n",
              "78310  pay risk provide consumer bank app chase year ...      3  \n",
              "78311  credit yr credit card chase freedom  problem b...      2  \n",
              "78312  year account jp bank  order line credit accoun...      2  \n",
              "\n",
              "[21072 rows x 5 columns]"
            ],
            "text/html": [
              "\n",
              "  <div id=\"df-e5d0c2ae-e456-40e3-9b52-e3e7ce855ffc\">\n",
              "    <div class=\"colab-df-container\">\n",
              "      <div>\n",
              "<style scoped>\n",
              "    .dataframe tbody tr th:only-of-type {\n",
              "        vertical-align: middle;\n",
              "    }\n",
              "\n",
              "    .dataframe tbody tr th {\n",
              "        vertical-align: top;\n",
              "    }\n",
              "\n",
              "    .dataframe thead th {\n",
              "        text-align: right;\n",
              "    }\n",
              "</style>\n",
              "<table border=\"1\" class=\"dataframe\">\n",
              "  <thead>\n",
              "    <tr style=\"text-align: right;\">\n",
              "      <th></th>\n",
              "      <th>complaint_what_happened</th>\n",
              "      <th>complaint_lemmatized</th>\n",
              "      <th>complaint_POS_removed</th>\n",
              "      <th>Complaint_clean</th>\n",
              "      <th>Topic</th>\n",
              "    </tr>\n",
              "  </thead>\n",
              "  <tbody>\n",
              "    <tr>\n",
              "      <th>1</th>\n",
              "      <td>good morning my name is xxxx xxxx and i apprec...</td>\n",
              "      <td>good morning my name be xxxx xxxx and I apprec...</td>\n",
              "      <td>morning name stop bank cardmember service ask ...</td>\n",
              "      <td>morning name stop bank cardmember service ask ...</td>\n",
              "      <td>0</td>\n",
              "    </tr>\n",
              "    <tr>\n",
              "      <th>2</th>\n",
              "      <td>i upgraded my xxxx xxxx card in  and was told ...</td>\n",
              "      <td>I upgrade my xxxx xxxx card in   and be tell b...</td>\n",
              "      <td>card agent upgrade date agent information orde...</td>\n",
              "      <td>card agent upgrade date agent information orde...</td>\n",
              "      <td>1</td>\n",
              "    </tr>\n",
              "    <tr>\n",
              "      <th>10</th>\n",
              "      <td>chase card was reported on  however fraudulent...</td>\n",
              "      <td>chase card be report on   however fraudulent a...</td>\n",
              "      <td>card report application identity consent servi...</td>\n",
              "      <td>card report application identity consent servi...</td>\n",
              "      <td>1</td>\n",
              "    </tr>\n",
              "    <tr>\n",
              "      <th>11</th>\n",
              "      <td>on  while trying to book a xxxx  xxxx  ticket ...</td>\n",
              "      <td>on   while try to book a xxxx   xxxx   ticket ...</td>\n",
              "      <td>try book xxxx ticket offer ticket card informa...</td>\n",
              "      <td>try book  ticket offer ticket card information...</td>\n",
              "      <td>1</td>\n",
              "    </tr>\n",
              "    <tr>\n",
              "      <th>14</th>\n",
              "      <td>my grand son give me check for  i deposit it i...</td>\n",
              "      <td>my grand son give I check for   I deposit it i...</td>\n",
              "      <td>son chase account fund bank account pay money ...</td>\n",
              "      <td>son chase account fund bank account pay money ...</td>\n",
              "      <td>0</td>\n",
              "    </tr>\n",
              "    <tr>\n",
              "      <th>...</th>\n",
              "      <td>...</td>\n",
              "      <td>...</td>\n",
              "      <td>...</td>\n",
              "      <td>...</td>\n",
              "      <td>...</td>\n",
              "    </tr>\n",
              "    <tr>\n",
              "      <th>78303</th>\n",
              "      <td>after being a chase card customer for well ove...</td>\n",
              "      <td>after be a chase card customer for well over a...</td>\n",
              "      <td>card customer decade solicitation credit card ...</td>\n",
              "      <td>card customer decade solicitation credit card ...</td>\n",
              "      <td>1</td>\n",
              "    </tr>\n",
              "    <tr>\n",
              "      <th>78309</th>\n",
              "      <td>on wednesday xxxxxxxx i called chas my xxxx xx...</td>\n",
              "      <td>on wednesday xxxxxxxx I call chas my xxxx xxxx...</td>\n",
              "      <td>visa credit card provider claim purchase prote...</td>\n",
              "      <td>visa credit card provider claim purchase prote...</td>\n",
              "      <td>3</td>\n",
              "    </tr>\n",
              "    <tr>\n",
              "      <th>78310</th>\n",
              "      <td>i am not familiar with xxxx pay and did not un...</td>\n",
              "      <td>I be not familiar with xxxx pay and do not und...</td>\n",
              "      <td>pay risk provide consumer bank app chase year ...</td>\n",
              "      <td>pay risk provide consumer bank app chase year ...</td>\n",
              "      <td>3</td>\n",
              "    </tr>\n",
              "    <tr>\n",
              "      <th>78311</th>\n",
              "      <td>i have had flawless credit for  yrs ive had ch...</td>\n",
              "      <td>I have have flawless credit for   yr I ve have...</td>\n",
              "      <td>credit yr credit card chase freedom xxxx probl...</td>\n",
              "      <td>credit yr credit card chase freedom  problem b...</td>\n",
              "      <td>2</td>\n",
              "    </tr>\n",
              "    <tr>\n",
              "      <th>78312</th>\n",
              "      <td>roughly  years ago i closed out my accounts wi...</td>\n",
              "      <td>roughly   year ago I close out my account with...</td>\n",
              "      <td>year account jp bank xxxx order line credit ac...</td>\n",
              "      <td>year account jp bank  order line credit accoun...</td>\n",
              "      <td>2</td>\n",
              "    </tr>\n",
              "  </tbody>\n",
              "</table>\n",
              "<p>21072 rows × 5 columns</p>\n",
              "</div>\n",
              "      <button class=\"colab-df-convert\" onclick=\"convertToInteractive('df-e5d0c2ae-e456-40e3-9b52-e3e7ce855ffc')\"\n",
              "              title=\"Convert this dataframe to an interactive table.\"\n",
              "              style=\"display:none;\">\n",
              "        \n",
              "  <svg xmlns=\"http://www.w3.org/2000/svg\" height=\"24px\"viewBox=\"0 0 24 24\"\n",
              "       width=\"24px\">\n",
              "    <path d=\"M0 0h24v24H0V0z\" fill=\"none\"/>\n",
              "    <path d=\"M18.56 5.44l.94 2.06.94-2.06 2.06-.94-2.06-.94-.94-2.06-.94 2.06-2.06.94zm-11 1L8.5 8.5l.94-2.06 2.06-.94-2.06-.94L8.5 2.5l-.94 2.06-2.06.94zm10 10l.94 2.06.94-2.06 2.06-.94-2.06-.94-.94-2.06-.94 2.06-2.06.94z\"/><path d=\"M17.41 7.96l-1.37-1.37c-.4-.4-.92-.59-1.43-.59-.52 0-1.04.2-1.43.59L10.3 9.45l-7.72 7.72c-.78.78-.78 2.05 0 2.83L4 21.41c.39.39.9.59 1.41.59.51 0 1.02-.2 1.41-.59l7.78-7.78 2.81-2.81c.8-.78.8-2.07 0-2.86zM5.41 20L4 18.59l7.72-7.72 1.47 1.35L5.41 20z\"/>\n",
              "  </svg>\n",
              "      </button>\n",
              "      \n",
              "  <style>\n",
              "    .colab-df-container {\n",
              "      display:flex;\n",
              "      flex-wrap:wrap;\n",
              "      gap: 12px;\n",
              "    }\n",
              "\n",
              "    .colab-df-convert {\n",
              "      background-color: #E8F0FE;\n",
              "      border: none;\n",
              "      border-radius: 50%;\n",
              "      cursor: pointer;\n",
              "      display: none;\n",
              "      fill: #1967D2;\n",
              "      height: 32px;\n",
              "      padding: 0 0 0 0;\n",
              "      width: 32px;\n",
              "    }\n",
              "\n",
              "    .colab-df-convert:hover {\n",
              "      background-color: #E2EBFA;\n",
              "      box-shadow: 0px 1px 2px rgba(60, 64, 67, 0.3), 0px 1px 3px 1px rgba(60, 64, 67, 0.15);\n",
              "      fill: #174EA6;\n",
              "    }\n",
              "\n",
              "    [theme=dark] .colab-df-convert {\n",
              "      background-color: #3B4455;\n",
              "      fill: #D2E3FC;\n",
              "    }\n",
              "\n",
              "    [theme=dark] .colab-df-convert:hover {\n",
              "      background-color: #434B5C;\n",
              "      box-shadow: 0px 1px 3px 1px rgba(0, 0, 0, 0.15);\n",
              "      filter: drop-shadow(0px 1px 2px rgba(0, 0, 0, 0.3));\n",
              "      fill: #FFFFFF;\n",
              "    }\n",
              "  </style>\n",
              "\n",
              "      <script>\n",
              "        const buttonEl =\n",
              "          document.querySelector('#df-e5d0c2ae-e456-40e3-9b52-e3e7ce855ffc button.colab-df-convert');\n",
              "        buttonEl.style.display =\n",
              "          google.colab.kernel.accessAllowed ? 'block' : 'none';\n",
              "\n",
              "        async function convertToInteractive(key) {\n",
              "          const element = document.querySelector('#df-e5d0c2ae-e456-40e3-9b52-e3e7ce855ffc');\n",
              "          const dataTable =\n",
              "            await google.colab.kernel.invokeFunction('convertToInteractive',\n",
              "                                                     [key], {});\n",
              "          if (!dataTable) return;\n",
              "\n",
              "          const docLinkHtml = 'Like what you see? Visit the ' +\n",
              "            '<a target=\"_blank\" href=https://colab.research.google.com/notebooks/data_table.ipynb>data table notebook</a>'\n",
              "            + ' to learn more about interactive tables.';\n",
              "          element.innerHTML = '';\n",
              "          dataTable['output_type'] = 'display_data';\n",
              "          await google.colab.output.renderOutput(dataTable, element);\n",
              "          const docLink = document.createElement('div');\n",
              "          docLink.innerHTML = docLinkHtml;\n",
              "          element.appendChild(docLink);\n",
              "        }\n",
              "      </script>\n",
              "    </div>\n",
              "  </div>\n",
              "  "
            ]
          },
          "metadata": {},
          "execution_count": 50
        }
      ],
      "source": [
        "df_clean"
      ]
    },
    {
      "cell_type": "code",
      "execution_count": 51,
      "metadata": {
        "id": "Xx-FrbkWJrGH"
      },
      "outputs": [],
      "source": [
        "#Keep the columns\"complaint_what_happened\" & \"Topic\" only in the new dataframe --> training_data\n",
        "training_data = df_clean[['complaint_what_happened', 'Topic']]"
      ]
    },
    {
      "cell_type": "code",
      "execution_count": 52,
      "metadata": {
        "id": "lVg2pa12JrGI",
        "colab": {
          "base_uri": "https://localhost:8080/",
          "height": 424
        },
        "outputId": "8ff64767-a1a2-4009-8924-c9752fb5b900"
      },
      "outputs": [
        {
          "output_type": "execute_result",
          "data": {
            "text/plain": [
              "                                 complaint_what_happened  Topic\n",
              "1      good morning my name is xxxx xxxx and i apprec...      0\n",
              "2      i upgraded my xxxx xxxx card in  and was told ...      1\n",
              "10     chase card was reported on  however fraudulent...      1\n",
              "11     on  while trying to book a xxxx  xxxx  ticket ...      1\n",
              "14     my grand son give me check for  i deposit it i...      0\n",
              "...                                                  ...    ...\n",
              "78303  after being a chase card customer for well ove...      1\n",
              "78309  on wednesday xxxxxxxx i called chas my xxxx xx...      3\n",
              "78310  i am not familiar with xxxx pay and did not un...      3\n",
              "78311  i have had flawless credit for  yrs ive had ch...      2\n",
              "78312  roughly  years ago i closed out my accounts wi...      2\n",
              "\n",
              "[21072 rows x 2 columns]"
            ],
            "text/html": [
              "\n",
              "  <div id=\"df-a5624eda-dcfc-441a-9720-2262dcb6da8a\">\n",
              "    <div class=\"colab-df-container\">\n",
              "      <div>\n",
              "<style scoped>\n",
              "    .dataframe tbody tr th:only-of-type {\n",
              "        vertical-align: middle;\n",
              "    }\n",
              "\n",
              "    .dataframe tbody tr th {\n",
              "        vertical-align: top;\n",
              "    }\n",
              "\n",
              "    .dataframe thead th {\n",
              "        text-align: right;\n",
              "    }\n",
              "</style>\n",
              "<table border=\"1\" class=\"dataframe\">\n",
              "  <thead>\n",
              "    <tr style=\"text-align: right;\">\n",
              "      <th></th>\n",
              "      <th>complaint_what_happened</th>\n",
              "      <th>Topic</th>\n",
              "    </tr>\n",
              "  </thead>\n",
              "  <tbody>\n",
              "    <tr>\n",
              "      <th>1</th>\n",
              "      <td>good morning my name is xxxx xxxx and i apprec...</td>\n",
              "      <td>0</td>\n",
              "    </tr>\n",
              "    <tr>\n",
              "      <th>2</th>\n",
              "      <td>i upgraded my xxxx xxxx card in  and was told ...</td>\n",
              "      <td>1</td>\n",
              "    </tr>\n",
              "    <tr>\n",
              "      <th>10</th>\n",
              "      <td>chase card was reported on  however fraudulent...</td>\n",
              "      <td>1</td>\n",
              "    </tr>\n",
              "    <tr>\n",
              "      <th>11</th>\n",
              "      <td>on  while trying to book a xxxx  xxxx  ticket ...</td>\n",
              "      <td>1</td>\n",
              "    </tr>\n",
              "    <tr>\n",
              "      <th>14</th>\n",
              "      <td>my grand son give me check for  i deposit it i...</td>\n",
              "      <td>0</td>\n",
              "    </tr>\n",
              "    <tr>\n",
              "      <th>...</th>\n",
              "      <td>...</td>\n",
              "      <td>...</td>\n",
              "    </tr>\n",
              "    <tr>\n",
              "      <th>78303</th>\n",
              "      <td>after being a chase card customer for well ove...</td>\n",
              "      <td>1</td>\n",
              "    </tr>\n",
              "    <tr>\n",
              "      <th>78309</th>\n",
              "      <td>on wednesday xxxxxxxx i called chas my xxxx xx...</td>\n",
              "      <td>3</td>\n",
              "    </tr>\n",
              "    <tr>\n",
              "      <th>78310</th>\n",
              "      <td>i am not familiar with xxxx pay and did not un...</td>\n",
              "      <td>3</td>\n",
              "    </tr>\n",
              "    <tr>\n",
              "      <th>78311</th>\n",
              "      <td>i have had flawless credit for  yrs ive had ch...</td>\n",
              "      <td>2</td>\n",
              "    </tr>\n",
              "    <tr>\n",
              "      <th>78312</th>\n",
              "      <td>roughly  years ago i closed out my accounts wi...</td>\n",
              "      <td>2</td>\n",
              "    </tr>\n",
              "  </tbody>\n",
              "</table>\n",
              "<p>21072 rows × 2 columns</p>\n",
              "</div>\n",
              "      <button class=\"colab-df-convert\" onclick=\"convertToInteractive('df-a5624eda-dcfc-441a-9720-2262dcb6da8a')\"\n",
              "              title=\"Convert this dataframe to an interactive table.\"\n",
              "              style=\"display:none;\">\n",
              "        \n",
              "  <svg xmlns=\"http://www.w3.org/2000/svg\" height=\"24px\"viewBox=\"0 0 24 24\"\n",
              "       width=\"24px\">\n",
              "    <path d=\"M0 0h24v24H0V0z\" fill=\"none\"/>\n",
              "    <path d=\"M18.56 5.44l.94 2.06.94-2.06 2.06-.94-2.06-.94-.94-2.06-.94 2.06-2.06.94zm-11 1L8.5 8.5l.94-2.06 2.06-.94-2.06-.94L8.5 2.5l-.94 2.06-2.06.94zm10 10l.94 2.06.94-2.06 2.06-.94-2.06-.94-.94-2.06-.94 2.06-2.06.94z\"/><path d=\"M17.41 7.96l-1.37-1.37c-.4-.4-.92-.59-1.43-.59-.52 0-1.04.2-1.43.59L10.3 9.45l-7.72 7.72c-.78.78-.78 2.05 0 2.83L4 21.41c.39.39.9.59 1.41.59.51 0 1.02-.2 1.41-.59l7.78-7.78 2.81-2.81c.8-.78.8-2.07 0-2.86zM5.41 20L4 18.59l7.72-7.72 1.47 1.35L5.41 20z\"/>\n",
              "  </svg>\n",
              "      </button>\n",
              "      \n",
              "  <style>\n",
              "    .colab-df-container {\n",
              "      display:flex;\n",
              "      flex-wrap:wrap;\n",
              "      gap: 12px;\n",
              "    }\n",
              "\n",
              "    .colab-df-convert {\n",
              "      background-color: #E8F0FE;\n",
              "      border: none;\n",
              "      border-radius: 50%;\n",
              "      cursor: pointer;\n",
              "      display: none;\n",
              "      fill: #1967D2;\n",
              "      height: 32px;\n",
              "      padding: 0 0 0 0;\n",
              "      width: 32px;\n",
              "    }\n",
              "\n",
              "    .colab-df-convert:hover {\n",
              "      background-color: #E2EBFA;\n",
              "      box-shadow: 0px 1px 2px rgba(60, 64, 67, 0.3), 0px 1px 3px 1px rgba(60, 64, 67, 0.15);\n",
              "      fill: #174EA6;\n",
              "    }\n",
              "\n",
              "    [theme=dark] .colab-df-convert {\n",
              "      background-color: #3B4455;\n",
              "      fill: #D2E3FC;\n",
              "    }\n",
              "\n",
              "    [theme=dark] .colab-df-convert:hover {\n",
              "      background-color: #434B5C;\n",
              "      box-shadow: 0px 1px 3px 1px rgba(0, 0, 0, 0.15);\n",
              "      filter: drop-shadow(0px 1px 2px rgba(0, 0, 0, 0.3));\n",
              "      fill: #FFFFFF;\n",
              "    }\n",
              "  </style>\n",
              "\n",
              "      <script>\n",
              "        const buttonEl =\n",
              "          document.querySelector('#df-a5624eda-dcfc-441a-9720-2262dcb6da8a button.colab-df-convert');\n",
              "        buttonEl.style.display =\n",
              "          google.colab.kernel.accessAllowed ? 'block' : 'none';\n",
              "\n",
              "        async function convertToInteractive(key) {\n",
              "          const element = document.querySelector('#df-a5624eda-dcfc-441a-9720-2262dcb6da8a');\n",
              "          const dataTable =\n",
              "            await google.colab.kernel.invokeFunction('convertToInteractive',\n",
              "                                                     [key], {});\n",
              "          if (!dataTable) return;\n",
              "\n",
              "          const docLinkHtml = 'Like what you see? Visit the ' +\n",
              "            '<a target=\"_blank\" href=https://colab.research.google.com/notebooks/data_table.ipynb>data table notebook</a>'\n",
              "            + ' to learn more about interactive tables.';\n",
              "          element.innerHTML = '';\n",
              "          dataTable['output_type'] = 'display_data';\n",
              "          await google.colab.output.renderOutput(dataTable, element);\n",
              "          const docLink = document.createElement('div');\n",
              "          docLink.innerHTML = docLinkHtml;\n",
              "          element.appendChild(docLink);\n",
              "        }\n",
              "      </script>\n",
              "    </div>\n",
              "  </div>\n",
              "  "
            ]
          },
          "metadata": {},
          "execution_count": 52
        }
      ],
      "source": [
        "training_data"
      ]
    },
    {
      "cell_type": "markdown",
      "metadata": {
        "id": "280Vbqk-7a8M"
      },
      "source": [
        "####Apply the supervised models on the training data created. In this process, you have to do the following:\n",
        "* Create the vector counts using Count Vectoriser\n",
        "* Transform the word vecotr to tf-idf\n",
        "* Create the train & test data using the train_test_split on the tf-idf & topics\n"
      ]
    },
    {
      "cell_type": "code",
      "execution_count": 53,
      "metadata": {
        "id": "oUlQpgkzJrGI"
      },
      "outputs": [],
      "source": [
        "\n",
        "#Write your code to get the Vector count\n",
        "vect = CountVectorizer()\n",
        "X_train_cnt = vect.fit_transform(training_data['complaint_what_happened'])\n",
        "\n",
        "# Save word vector\n",
        "pickle.dump(vect.vocabulary_, open(\"count_vector.pk1\", \"wb\"))\n",
        "#Write your code here to transform the word vector to tf-idf\n",
        "tfidf_transformer = TfidfTransformer()\n",
        "X_train_tfidf = tfidf_transformer.fit_transform(X_train_cnt)\n",
        "\n",
        "# Save tfidf\n",
        "pickle.dump(tfidf_transformer, open('tfidf.pk1', \"wb\"))"
      ]
    },
    {
      "cell_type": "markdown",
      "metadata": {
        "id": "uMU3vj6w-wqL"
      },
      "source": [
        "You have to try atleast 3 models on the train & test data from these options:\n",
        "* Logistic regression\n",
        "* Decision Tree\n",
        "* Random Forest\n",
        "* Naive Bayes (optional)\n",
        "\n",
        "**Using the required evaluation metrics judge the tried models and select the ones performing the best**"
      ]
    },
    {
      "cell_type": "code",
      "execution_count": 54,
      "metadata": {
        "id": "udLHpPsZJrGI"
      },
      "outputs": [],
      "source": [
        "# Importing LogisticRegression from sklearn\n",
        "from sklearn.linear_model import LogisticRegression\n",
        "# Importing Train, Test Split\n",
        "from sklearn.model_selection import train_test_split"
      ]
    },
    {
      "cell_type": "code",
      "execution_count": 55,
      "metadata": {
        "id": "N2OznsObJrGP"
      },
      "outputs": [],
      "source": [
        "# Train, Test Split\n",
        "X_train, X_test, y_train, y_test = train_test_split(X_train_tfidf, training_data['Topic'], test_size=0.25, random_state=42)"
      ]
    },
    {
      "cell_type": "code",
      "source": [
        "logreg = LogisticRegression(random_state=42, solver='liblinear').fit(X_train, y_train)"
      ],
      "metadata": {
        "id": "cjGnsoPFwDqe"
      },
      "execution_count": 56,
      "outputs": []
    },
    {
      "cell_type": "code",
      "source": [
        "# Getting the score of the base model\n",
        "logreg.score(X_test, y_test)"
      ],
      "metadata": {
        "colab": {
          "base_uri": "https://localhost:8080/"
        },
        "id": "3yKXaYoxwNDm",
        "outputId": "ff3ff341-d9bc-4ef0-86c4-fa27a37ca9c8"
      },
      "execution_count": 57,
      "outputs": [
        {
          "output_type": "execute_result",
          "data": {
            "text/plain": [
              "0.9195140470766895"
            ]
          },
          "metadata": {},
          "execution_count": 57
        }
      ]
    },
    {
      "cell_type": "markdown",
      "source": [
        "* With base Logistic Regression model, we get an accuracy of 91.95%"
      ],
      "metadata": {
        "id": "T_VvkOjFwVnD"
      }
    },
    {
      "cell_type": "markdown",
      "source": [
        "*  **HyperParameter Tuning**"
      ],
      "metadata": {
        "id": "TwGLGRZ1wadl"
      }
    },
    {
      "cell_type": "code",
      "source": [
        "logreg_grid = {\"C\": [100, 10, 5, 4, 3, 2, 1, 1.0, 0.1, 0.01],\n",
        "                \"solver\": [\"liblinear\"]}"
      ],
      "metadata": {
        "id": "Wq-QFInUwPBl"
      },
      "execution_count": 58,
      "outputs": []
    },
    {
      "cell_type": "code",
      "source": [
        "# Setup grid hyperparameter search for LogisticRegression\n",
        "logreg_hpt = GridSearchCV(LogisticRegression(random_state=42),\n",
        "                                param_grid=logreg_grid,\n",
        "                                cv=5,\n",
        "                                verbose=True,\n",
        "                                n_jobs=-1)\n",
        "\n",
        "# Fit random hyperparameter search model\n",
        "logreg_hpt.fit(X_train, y_train);"
      ],
      "metadata": {
        "colab": {
          "base_uri": "https://localhost:8080/"
        },
        "id": "bHqRXBCZwlW8",
        "outputId": "296b9a9a-84aa-4d5b-b6d9-853ffef983f4"
      },
      "execution_count": 59,
      "outputs": [
        {
          "output_type": "stream",
          "name": "stdout",
          "text": [
            "Fitting 5 folds for each of 10 candidates, totalling 50 fits\n"
          ]
        }
      ]
    },
    {
      "cell_type": "code",
      "source": [
        "# Check best parameters\n",
        "logreg_hpt.best_params_"
      ],
      "metadata": {
        "colab": {
          "base_uri": "https://localhost:8080/"
        },
        "id": "3MoOg13nwlkz",
        "outputId": "b9187cb8-2ea9-49ff-c526-9187bbdc8457"
      },
      "execution_count": 60,
      "outputs": [
        {
          "output_type": "execute_result",
          "data": {
            "text/plain": [
              "{'C': 3, 'solver': 'liblinear'}"
            ]
          },
          "metadata": {},
          "execution_count": 60
        }
      ]
    },
    {
      "cell_type": "code",
      "source": [
        "# Evaluating the tuned model\n",
        "logreg_hpt.score(X_test, y_test)"
      ],
      "metadata": {
        "colab": {
          "base_uri": "https://localhost:8080/"
        },
        "id": "gQ6DTQKBwoCY",
        "outputId": "a8ac5327-813e-4f7e-d7a2-3a6c2ca3a4b2"
      },
      "execution_count": 61,
      "outputs": [
        {
          "output_type": "execute_result",
          "data": {
            "text/plain": [
              "0.9255884586180714"
            ]
          },
          "metadata": {},
          "execution_count": 61
        }
      ]
    },
    {
      "cell_type": "markdown",
      "source": [
        "* With the tuned Logistic Regression model, we get an accuracy of 92.33% which is an improvement over the base model's accuracy of 91.79%"
      ],
      "metadata": {
        "id": "wUzgyX1dwrno"
      }
    },
    {
      "cell_type": "code",
      "source": [
        "# Save Logistic Regression Model\n",
        "pickle.dump(logreg_hpt, open(\"logreg_model.pk1\", \"wb\"))"
      ],
      "metadata": {
        "id": "Pk3y4ALBwpy2"
      },
      "execution_count": 62,
      "outputs": []
    },
    {
      "cell_type": "markdown",
      "source": [
        "* **Model Evaluation**"
      ],
      "metadata": {
        "id": "PI6zTPHlwziN"
      }
    },
    {
      "cell_type": "code",
      "source": [
        "# Load pickled model\n",
        "logreg_model = pickle.load(open(\"logreg_model.pk1\", \"rb\"))"
      ],
      "metadata": {
        "id": "TDV5gZlEwvZh"
      },
      "execution_count": 63,
      "outputs": []
    },
    {
      "cell_type": "code",
      "source": [
        "# Make predictions on test data\n",
        "y_pred = logreg_model.predict(X_test)"
      ],
      "metadata": {
        "id": "vKDx_yAjwxGC"
      },
      "execution_count": 64,
      "outputs": []
    },
    {
      "cell_type": "code",
      "source": [
        "# Print Confusion Matrix\n",
        "print(confusion_matrix(y_test, y_pred))"
      ],
      "metadata": {
        "colab": {
          "base_uri": "https://localhost:8080/"
        },
        "id": "bQ-mNe5gw9v7",
        "outputId": "1e2e2600-e93d-47a8-a4ef-f04905538fb0"
      },
      "execution_count": 65,
      "outputs": [
        {
          "output_type": "stream",
          "name": "stdout",
          "text": [
            "[[1259   19    7   23   16]\n",
            " [  16 1212    5   39   10]\n",
            " [  12   12  498   11   22]\n",
            " [  62   44    7 1057   21]\n",
            " [  23   23    8   12  850]]\n"
          ]
        }
      ]
    },
    {
      "cell_type": "code",
      "source": [
        "# Visualize Confusion Matrix with heatmap\n",
        "fig, ax = plt.subplots(figsize=(6, 6))\n",
        "ax = sns.heatmap(confusion_matrix(y_test, y_pred),\n",
        "                 annot=True,\n",
        "                 cbar=False,\n",
        "                 cmap=\"RdYlGn\", fmt = '0.1f')\n",
        "plt.xlabel(\"Actual label\")\n",
        "plt.ylabel(\"Predicted label\")\n",
        "plt.show()\n"
      ],
      "metadata": {
        "colab": {
          "base_uri": "https://localhost:8080/",
          "height": 388
        },
        "id": "u-RdkflUxAKg",
        "outputId": "53f5cbe1-00a8-42e6-b733-5565c96e81a8"
      },
      "execution_count": 66,
      "outputs": [
        {
          "output_type": "display_data",
          "data": {
            "text/plain": [
              "<Figure size 432x432 with 1 Axes>"
            ],
            "image/png": "[encoded data removed]"
          },
          "metadata": {
            "needs_background": "light"
          }
        }
      ]
    },
    {
      "cell_type": "code",
      "source": [
        "Topicnames_target = [\"Bank account services\", \"Credit card / Prepaid card\", \"Others\", \"Theft/Dispute reporting\", \"Mortgages/loans\"]"
      ],
      "metadata": {
        "id": "b0fLixjUxB5K"
      },
      "execution_count": 67,
      "outputs": []
    },
    {
      "cell_type": "code",
      "source": [
        "# Print Classification Report\n",
        "print(classification_report(y_test, y_pred, target_names = Topicnames_target))"
      ],
      "metadata": {
        "colab": {
          "base_uri": "https://localhost:8080/"
        },
        "id": "49Z-1Yn3xD8Z",
        "outputId": "6697fa62-577a-4be0-8026-c334aa303a21"
      },
      "execution_count": 68,
      "outputs": [
        {
          "output_type": "stream",
          "name": "stdout",
          "text": [
            "                            precision    recall  f1-score   support\n",
            "\n",
            "     Bank account services       0.92      0.95      0.93      1324\n",
            "Credit card / Prepaid card       0.93      0.95      0.94      1282\n",
            "                    Others       0.95      0.90      0.92       555\n",
            "   Theft/Dispute reporting       0.93      0.89      0.91      1191\n",
            "           Mortgages/loans       0.92      0.93      0.93       916\n",
            "\n",
            "                  accuracy                           0.93      5268\n",
            "                 macro avg       0.93      0.92      0.92      5268\n",
            "              weighted avg       0.93      0.93      0.93      5268\n",
            "\n"
          ]
        }
      ]
    },
    {
      "cell_type": "markdown",
      "source": [
        "* The overall accuracy of the Logistic Regression model is 92%.\n",
        "* Precision and Recall are 93% and 92% respectively which makes this is a very good model.\n"
      ],
      "metadata": {
        "id": "BRKk0GZ9xKCu"
      }
    },
    {
      "cell_type": "markdown",
      "source": [
        "* **Decision Tree Classifier**"
      ],
      "metadata": {
        "id": "5ZW0nOlUxQzj"
      }
    },
    {
      "cell_type": "code",
      "source": [
        "# Importing DecisionTreeClassifier from sklearn\n",
        "from sklearn.tree import DecisionTreeClassifier"
      ],
      "metadata": {
        "id": "7klefZ3txFbz"
      },
      "execution_count": 69,
      "outputs": []
    },
    {
      "cell_type": "code",
      "source": [
        "# Train, Test Split\n",
        "X_train, X_test, y_train, y_test = train_test_split(X_train_tfidf, training_data['Topic'], test_size=0.25, random_state=42)"
      ],
      "metadata": {
        "id": "Y8B1Zz4Kxkkp"
      },
      "execution_count": 70,
      "outputs": []
    },
    {
      "cell_type": "code",
      "source": [
        "dt = DecisionTreeClassifier(random_state=42).fit(X_train, y_train)"
      ],
      "metadata": {
        "id": "rNjhZPWjxl45"
      },
      "execution_count": 71,
      "outputs": []
    },
    {
      "cell_type": "code",
      "source": [
        "# Getting the score of the base model\n",
        "dt.score(X_test, y_test)"
      ],
      "metadata": {
        "colab": {
          "base_uri": "https://localhost:8080/"
        },
        "id": "500c993IxnTC",
        "outputId": "2dc08c69-221f-4bc2-afc4-e5eb78a7f839"
      },
      "execution_count": 72,
      "outputs": [
        {
          "output_type": "execute_result",
          "data": {
            "text/plain": [
              "0.7820804859529233"
            ]
          },
          "metadata": {},
          "execution_count": 72
        }
      ]
    },
    {
      "cell_type": "markdown",
      "source": [
        "* With base Decision Tree model, we get an accuracy of 78.89%"
      ],
      "metadata": {
        "id": "DpXTFdTcxqht"
      }
    },
    {
      "cell_type": "markdown",
      "source": [
        "* **HyperParameter Tuning**"
      ],
      "metadata": {
        "id": "nr8jxrfPxqe3"
      }
    },
    {
      "cell_type": "code",
      "source": [
        "dt_grid = {\"max_depth\": [3, 5, 10],\n",
        "           \"min_samples_split\": np.arange(2, 20, 2),\n",
        "           \"min_samples_leaf\": np.arange(1, 20, 2)}"
      ],
      "metadata": {
        "id": "2jWaKbhcxois"
      },
      "execution_count": 73,
      "outputs": []
    },
    {
      "cell_type": "code",
      "source": [
        "# Setup grid hyperparameter search for LogisticRegression\n",
        "dt_hpt = GridSearchCV(DecisionTreeClassifier(random_state=42),\n",
        "                                param_grid=dt_grid,\n",
        "                                cv=5,\n",
        "                                verbose=True,\n",
        "                                n_jobs=-1)\n",
        "\n",
        "# Fit random hyperparameter search model\n",
        "dt_hpt.fit(X_train, y_train);"
      ],
      "metadata": {
        "colab": {
          "base_uri": "https://localhost:8080/"
        },
        "id": "_ED8z9FGxxRz",
        "outputId": "36b17d9b-d3f1-4705-c52b-e18824a5cbff"
      },
      "execution_count": 74,
      "outputs": [
        {
          "output_type": "stream",
          "name": "stdout",
          "text": [
            "Fitting 5 folds for each of 270 candidates, totalling 1350 fits\n"
          ]
        }
      ]
    },
    {
      "cell_type": "code",
      "source": [
        "# Check best parameters\n",
        "dt_hpt.best_params_"
      ],
      "metadata": {
        "colab": {
          "base_uri": "https://localhost:8080/"
        },
        "id": "6YMyjFmsxy-M",
        "outputId": "f288cf8c-c13c-4a7b-990d-2ee0f4d48b18"
      },
      "execution_count": 75,
      "outputs": [
        {
          "output_type": "execute_result",
          "data": {
            "text/plain": [
              "{'max_depth': 10, 'min_samples_leaf': 13, 'min_samples_split': 2}"
            ]
          },
          "metadata": {},
          "execution_count": 75
        }
      ]
    },
    {
      "cell_type": "code",
      "source": [
        "# Evaluating the tuned model\n",
        "dt_hpt.score(X_test, y_test)"
      ],
      "metadata": {
        "colab": {
          "base_uri": "https://localhost:8080/"
        },
        "id": "3XNkk2kIx0Rr",
        "outputId": "d04bb0b0-f2d2-4f9d-b5cd-4c193e0dd332"
      },
      "execution_count": 76,
      "outputs": [
        {
          "output_type": "execute_result",
          "data": {
            "text/plain": [
              "0.7760060744115413"
            ]
          },
          "metadata": {},
          "execution_count": 76
        }
      ]
    },
    {
      "cell_type": "markdown",
      "source": [
        "* With the tuned Decision Tree model, we get an accuracy of 77.52% which is less than the base model's accuracy of 78.89%"
      ],
      "metadata": {
        "id": "HMetyh9Fx368"
      }
    },
    {
      "cell_type": "code",
      "source": [
        "# Save Logistic Regression Model\n",
        "pickle.dump(dt_hpt, open(\"dt_model.pk1\", \"wb\"))"
      ],
      "metadata": {
        "id": "R8eVCp6ox1TF"
      },
      "execution_count": 77,
      "outputs": []
    },
    {
      "cell_type": "markdown",
      "source": [
        "* **Model Evaluation**"
      ],
      "metadata": {
        "id": "ohuZ-F-Jx7a4"
      }
    },
    {
      "cell_type": "code",
      "source": [
        "# Load pickled model\n",
        "dt_model = pickle.load(open(\"dt_model.pk1\", \"rb\"))"
      ],
      "metadata": {
        "id": "k8lFMsNux2nY"
      },
      "execution_count": 78,
      "outputs": []
    },
    {
      "cell_type": "code",
      "source": [
        "# Make predictions on test data\n",
        "y_pred = dt_model.predict(X_test)"
      ],
      "metadata": {
        "id": "4fhLAT-0x9qI"
      },
      "execution_count": 79,
      "outputs": []
    },
    {
      "cell_type": "code",
      "source": [
        "# Print Confusion Matrix\n",
        "print(confusion_matrix(y_test, y_pred))"
      ],
      "metadata": {
        "colab": {
          "base_uri": "https://localhost:8080/"
        },
        "id": "I-vqH8Rux-2q",
        "outputId": "c00c06be-265b-4840-e7fa-61d066c6a8c3"
      },
      "execution_count": 80,
      "outputs": [
        {
          "output_type": "stream",
          "name": "stdout",
          "text": [
            "[[1056   72   19   66  111]\n",
            " [  39 1067   21   74   81]\n",
            " [  39   36  426   14   40]\n",
            " [ 145  132   25  741  148]\n",
            " [  45   23   30   20  798]]\n"
          ]
        }
      ]
    },
    {
      "cell_type": "code",
      "source": [
        "# Visualize Confusion Matrix with heatmap\n",
        "fig, ax = plt.subplots(figsize=(6, 6))\n",
        "ax = sns.heatmap(confusion_matrix(y_test, y_pred),\n",
        "                 annot=True,\n",
        "                 cbar=False,\n",
        "                 cmap=\"RdYlGn\", fmt = '0.1f')\n",
        "plt.xlabel(\"Actual label\")\n",
        "plt.ylabel(\"Predicted label\")\n",
        "plt.show()"
      ],
      "metadata": {
        "colab": {
          "base_uri": "https://localhost:8080/",
          "height": 388
        },
        "id": "G-QVKPmpyBD6",
        "outputId": "c7866188-b1e8-4f73-dccc-c718aa742ca1"
      },
      "execution_count": 81,
      "outputs": [
        {
          "output_type": "display_data",
          "data": {
            "text/plain": [
              "<Figure size 432x432 with 1 Axes>"
            ],
            "image/png": "[encoded data removed]"
          },
          "metadata": {
            "needs_background": "light"
          }
        }
      ]
    },
    {
      "cell_type": "code",
      "source": [
        "Topicnames_target = [\"Bank account services\", \"Credit card / Prepaid card\", \"Others\", \"Theft/Dispute reporting\", \"Mortgages/loans\"]"
      ],
      "metadata": {
        "id": "JQD-eUsIyCo8"
      },
      "execution_count": 82,
      "outputs": []
    },
    {
      "cell_type": "code",
      "source": [
        "# Print Classification Report\n",
        "print(classification_report(y_test, y_pred, target_names = Topicnames_target))"
      ],
      "metadata": {
        "colab": {
          "base_uri": "https://localhost:8080/"
        },
        "id": "HGG83egfyFE5",
        "outputId": "10303d00-f824-42eb-c72f-a714ce130eb9"
      },
      "execution_count": 83,
      "outputs": [
        {
          "output_type": "stream",
          "name": "stdout",
          "text": [
            "                            precision    recall  f1-score   support\n",
            "\n",
            "     Bank account services       0.80      0.80      0.80      1324\n",
            "Credit card / Prepaid card       0.80      0.83      0.82      1282\n",
            "                    Others       0.82      0.77      0.79       555\n",
            "   Theft/Dispute reporting       0.81      0.62      0.70      1191\n",
            "           Mortgages/loans       0.68      0.87      0.76       916\n",
            "\n",
            "                  accuracy                           0.78      5268\n",
            "                 macro avg       0.78      0.78      0.77      5268\n",
            "              weighted avg       0.78      0.78      0.77      5268\n",
            "\n"
          ]
        }
      ]
    },
    {
      "cell_type": "markdown",
      "source": [
        "* The overall accuracy of the Decision Tree model is 78%\n",
        "* Precision and Recall are 78% and 78% respectively\n",
        "* This is an okay model but much poor compared to Logistic Regression where the accuracy was 92%"
      ],
      "metadata": {
        "id": "T_f4yPJDyIVi"
      }
    },
    {
      "cell_type": "markdown",
      "source": [
        "* **Random Forest Classifier**"
      ],
      "metadata": {
        "id": "PUfFuB2WyOEV"
      }
    },
    {
      "cell_type": "code",
      "source": [
        "# Importing Random Forest Classifier from sklearn\n",
        "from sklearn.ensemble import RandomForestClassifier\n",
        "# Importing Train, Test Split\n",
        "from sklearn.model_selection import train_test_split"
      ],
      "metadata": {
        "id": "1XFWBIKUyGWA"
      },
      "execution_count": 84,
      "outputs": []
    },
    {
      "cell_type": "code",
      "source": [
        "# Train, Test Split\n",
        "X_train, X_test, y_train, y_test = train_test_split(X_train_tfidf, training_data['Topic'], test_size=0.25, random_state=42)"
      ],
      "metadata": {
        "id": "MBhy85VFyo17"
      },
      "execution_count": 85,
      "outputs": []
    },
    {
      "cell_type": "code",
      "source": [
        "rf = RandomForestClassifier(random_state=42).fit(X_train, y_train)"
      ],
      "metadata": {
        "id": "cEnPcK5Kyp7j"
      },
      "execution_count": 86,
      "outputs": []
    },
    {
      "cell_type": "code",
      "source": [
        "# Getting the score of the base model\n",
        "rf.score(X_test, y_test)"
      ],
      "metadata": {
        "colab": {
          "base_uri": "https://localhost:8080/"
        },
        "id": "vz2KJungyrex",
        "outputId": "d66942e8-d38f-45b8-c163-5cc2e1e3a8b2"
      },
      "execution_count": 87,
      "outputs": [
        {
          "output_type": "execute_result",
          "data": {
            "text/plain": [
              "0.8219438116932423"
            ]
          },
          "metadata": {},
          "execution_count": 87
        }
      ]
    },
    {
      "cell_type": "markdown",
      "source": [
        "* With base Random Forest model, we get an accuracy of 81.64%"
      ],
      "metadata": {
        "id": "Mg7T2_Wot01f"
      }
    },
    {
      "cell_type": "markdown",
      "source": [
        "* **HyperParameter Tuning**"
      ],
      "metadata": {
        "id": "jJZaNNCwt9Ke"
      }
    },
    {
      "cell_type": "code",
      "source": [
        "rf_grid = {\"n_estimators\": np.arange(10, 1000, 50),\n",
        "           \"max_depth\": [3, 5, 10],\n",
        "           \"min_samples_split\": np.arange(2, 20, 2),\n",
        "           \"min_samples_leaf\": np.arange(1, 20, 2)}"
      ],
      "metadata": {
        "id": "aImVbdioys4I"
      },
      "execution_count": 88,
      "outputs": []
    },
    {
      "cell_type": "code",
      "source": [
        "# Setup random hyperparameter search for LogisticRegression\n",
        "rf_hpt = RandomizedSearchCV(RandomForestClassifier(random_state=42),\n",
        "                                param_distributions=rf_grid,\n",
        "                                cv=5,\n",
        "                                verbose=True,\n",
        "                                n_jobs=-1)\n",
        "\n",
        "# Fit random hyperparameter search model\n",
        "rf_hpt.fit(X_train, y_train);"
      ],
      "metadata": {
        "colab": {
          "base_uri": "https://localhost:8080/"
        },
        "id": "1lPAf-OMuDzI",
        "outputId": "9a89264b-9f1e-4f94-c1a9-65ba03e3af09"
      },
      "execution_count": 89,
      "outputs": [
        {
          "output_type": "stream",
          "name": "stdout",
          "text": [
            "Fitting 5 folds for each of 10 candidates, totalling 50 fits\n"
          ]
        }
      ]
    },
    {
      "cell_type": "code",
      "source": [
        "# Check best parameters\n",
        "rf_hpt.best_params_ "
      ],
      "metadata": {
        "colab": {
          "base_uri": "https://localhost:8080/"
        },
        "id": "DJeabdjiuGyC",
        "outputId": "d99ae5db-7da6-428a-ef46-e22f705e74e7"
      },
      "execution_count": 90,
      "outputs": [
        {
          "output_type": "execute_result",
          "data": {
            "text/plain": [
              "{'n_estimators': 710,\n",
              " 'min_samples_split': 18,\n",
              " 'min_samples_leaf': 1,\n",
              " 'max_depth': 10}"
            ]
          },
          "metadata": {},
          "execution_count": 90
        }
      ]
    },
    {
      "cell_type": "code",
      "source": [
        "# Evaluating the tuned model\n",
        "rf_hpt.score(X_test, y_test)"
      ],
      "metadata": {
        "colab": {
          "base_uri": "https://localhost:8080/"
        },
        "id": "WFDb_TMguLs2",
        "outputId": "e201307b-1a98-4b68-b299-f6ad17cceec2"
      },
      "execution_count": 91,
      "outputs": [
        {
          "output_type": "execute_result",
          "data": {
            "text/plain": [
              "0.7313971146545178"
            ]
          },
          "metadata": {},
          "execution_count": 91
        }
      ]
    },
    {
      "cell_type": "markdown",
      "source": [
        "* After Randomized Search, Random Forecast model accuracy is only 73%. We will fine tune the results further based on Grid Search"
      ],
      "metadata": {
        "id": "OC5vupmGuTVr"
      }
    },
    {
      "cell_type": "code",
      "source": [
        "rf_grid = {\"n_estimators\": [200, 260, 300],\n",
        "           \"max_depth\": [7, 10, 15],\n",
        "           \"min_samples_split\": [10, 12, 14],\n",
        "           \"min_samples_leaf\": [6, 8, 10]}"
      ],
      "metadata": {
        "id": "0Uks5tCeuZAh"
      },
      "execution_count": 92,
      "outputs": []
    },
    {
      "cell_type": "code",
      "source": [
        "# Setup grid hyperparameter search for LogisticRegression\n",
        "rf_hpt = GridSearchCV(RandomForestClassifier(random_state=42),\n",
        "                                param_grid=rf_grid,\n",
        "                                cv=5,\n",
        "                                verbose=True,\n",
        "                                n_jobs=-1)\n",
        "\n",
        "# Fit random hyperparameter search model\n",
        "rf_hpt.fit(X_train, y_train);"
      ],
      "metadata": {
        "colab": {
          "base_uri": "https://localhost:8080/"
        },
        "id": "As8Onu8zu5sX",
        "outputId": "16c35ff1-1277-4983-e732-e8b8da64856e"
      },
      "execution_count": 93,
      "outputs": [
        {
          "output_type": "stream",
          "name": "stdout",
          "text": [
            "Fitting 5 folds for each of 81 candidates, totalling 405 fits\n"
          ]
        }
      ]
    },
    {
      "cell_type": "code",
      "source": [
        "# Check best parameters\n",
        "rf_hpt.best_params_"
      ],
      "metadata": {
        "colab": {
          "base_uri": "https://localhost:8080/"
        },
        "id": "x-P7Ic27u7VS",
        "outputId": "8f98e8d6-c3ba-4433-87fe-d91877e5e6ec"
      },
      "execution_count": 94,
      "outputs": [
        {
          "output_type": "execute_result",
          "data": {
            "text/plain": [
              "{'max_depth': 15,\n",
              " 'min_samples_leaf': 6,\n",
              " 'min_samples_split': 14,\n",
              " 'n_estimators': 260}"
            ]
          },
          "metadata": {},
          "execution_count": 94
        }
      ]
    },
    {
      "cell_type": "code",
      "source": [
        "# Evaluating the tuned model\n",
        "rf_hpt.score(X_test, y_test)"
      ],
      "metadata": {
        "colab": {
          "base_uri": "https://localhost:8080/"
        },
        "id": "wHYrtURFvng2",
        "outputId": "405e55ba-c723-4180-e45b-99d3b6655ae0"
      },
      "execution_count": 95,
      "outputs": [
        {
          "output_type": "execute_result",
          "data": {
            "text/plain": [
              "0.7558845861807137"
            ]
          },
          "metadata": {},
          "execution_count": 95
        }
      ]
    },
    {
      "cell_type": "markdown",
      "source": [
        "* After Grid Search, the Random Forest model has an accuracy of 76.15%."
      ],
      "metadata": {
        "id": "2Qy6dyLlvqAj"
      }
    },
    {
      "cell_type": "code",
      "source": [
        "# Save Random Forest Model\n",
        "pickle.dump(rf_hpt, open(\"rf_model.pk1\", \"wb\"))"
      ],
      "metadata": {
        "id": "gQeY2Ls1vrHm"
      },
      "execution_count": 96,
      "outputs": []
    },
    {
      "cell_type": "markdown",
      "source": [
        "* **Model Evaluation**"
      ],
      "metadata": {
        "id": "SJ4PQujhvzJy"
      }
    },
    {
      "cell_type": "code",
      "source": [
        "# Load pickled model\n",
        "rf_model = pickle.load(open(\"rf_model.pk1\", \"rb\"))"
      ],
      "metadata": {
        "id": "LzCxqQx7vuoa"
      },
      "execution_count": 97,
      "outputs": []
    },
    {
      "cell_type": "code",
      "source": [
        "# Make predictions on test data\n",
        "y_pred = rf_model.predict(X_test)"
      ],
      "metadata": {
        "id": "YjM4gf8yx57u"
      },
      "execution_count": 98,
      "outputs": []
    },
    {
      "cell_type": "code",
      "source": [
        "# Print Confusion Matrix\n",
        "print(confusion_matrix(y_test, y_pred))"
      ],
      "metadata": {
        "colab": {
          "base_uri": "https://localhost:8080/"
        },
        "id": "ZyuXcMTFx8KP",
        "outputId": "3bf27e06-9396-4516-f8f3-b76b955dd6cc"
      },
      "execution_count": 99,
      "outputs": [
        {
          "output_type": "stream",
          "name": "stdout",
          "text": [
            "[[1207   90    0   19    8]\n",
            " [  59 1130    0   85    8]\n",
            " [ 147  186   46   69  107]\n",
            " [ 167  132    0  885    7]\n",
            " [  79  109    0   14  714]]\n"
          ]
        }
      ]
    },
    {
      "cell_type": "code",
      "source": [
        "# Visualize Confusion Matrix with heatmap\n",
        "fig, ax = plt.subplots(figsize=(6, 6))\n",
        "ax = sns.heatmap(confusion_matrix(y_test, y_pred),\n",
        "                 annot=True,\n",
        "                 cbar=False,\n",
        "                 cmap=\"RdYlGn\", fmt = '0.1f')\n",
        "plt.xlabel(\"Actual label\")\n",
        "plt.ylabel(\"Predicted label\")\n",
        "plt.show()"
      ],
      "metadata": {
        "colab": {
          "base_uri": "https://localhost:8080/",
          "height": 388
        },
        "id": "2tSD3iZqyGIF",
        "outputId": "6c23a1d7-ea44-41a5-dca0-7632feba1815"
      },
      "execution_count": 100,
      "outputs": [
        {
          "output_type": "display_data",
          "data": {
            "text/plain": [
              "<Figure size 432x432 with 1 Axes>"
            ],
            "image/png": "[encoded data removed]"
          },
          "metadata": {
            "needs_background": "light"
          }
        }
      ]
    },
    {
      "cell_type": "code",
      "source": [
        "Topicnames_target = [\"Bank account services\", \"Credit card / Prepaid card\", \"Others\", \"Theft/Dispute reporting\", \"Mortgages/loans\"]"
      ],
      "metadata": {
        "id": "FeIsI4ItyIHh"
      },
      "execution_count": 101,
      "outputs": []
    },
    {
      "cell_type": "code",
      "source": [
        "# Print Classification Report\n",
        "print(classification_report(y_test, y_pred, target_names = Topicnames_target))"
      ],
      "metadata": {
        "colab": {
          "base_uri": "https://localhost:8080/"
        },
        "id": "LUVm2i0EyJy8",
        "outputId": "f28e31f3-2e13-4aa6-b125-faaca4873c67"
      },
      "execution_count": 102,
      "outputs": [
        {
          "output_type": "stream",
          "name": "stdout",
          "text": [
            "                            precision    recall  f1-score   support\n",
            "\n",
            "     Bank account services       0.73      0.91      0.81      1324\n",
            "Credit card / Prepaid card       0.69      0.88      0.77      1282\n",
            "                    Others       1.00      0.08      0.15       555\n",
            "   Theft/Dispute reporting       0.83      0.74      0.78      1191\n",
            "           Mortgages/loans       0.85      0.78      0.81       916\n",
            "\n",
            "                  accuracy                           0.76      5268\n",
            "                 macro avg       0.82      0.68      0.67      5268\n",
            "              weighted avg       0.79      0.76      0.73      5268\n",
            "\n"
          ]
        }
      ]
    },
    {
      "cell_type": "markdown",
      "source": [
        "* The overall accuracy of the Random Forest model is 76%\n",
        "* Precision and Accuracy are 82% and 69% respectively and we can see that the model overfits for \"Others\" category for Precision\n",
        "* This is a very poor model as compared to Logistic Regression where the accuracy was 92%"
      ],
      "metadata": {
        "id": "l3BNWUlyyL5F"
      }
    },
    {
      "cell_type": "markdown",
      "source": [
        "### Overall Results\n",
        "We created three supervised models (Logistic Regression, Decision Tree Classifier and Random Forest Classifier) to predict any new complaints to the relevant Topics.\n",
        "\n",
        "#### **Results**\n",
        "\n",
        "#### Logistic Regression\n",
        "* The overall accuracy of the Logistic Regression model is 92%.\n",
        "* Precision and Recall are 93% and 92% respectively which makes this is a very good model.\n",
        "\n",
        "#### Decision Tree\n",
        "* The overall accuracy of the Decision Tree model is 78%\n",
        "* Precision and Recall are 78% and 78% respectively\n",
        "\n",
        "### Random Forest\n",
        "* The overall accuracy of the Random Forest model is 76%\n",
        "* Precision and Recall are 82% and 69% respectively and we can see that the model overfits for \"Others\" category for Precision\n",
        "\n",
        "### **Conclusion**\n",
        "Based on the above results, Logistic Regression is the best model with an accuracy of 92% with Precision and Recall as 93% and 92% respectively"
      ],
      "metadata": {
        "id": "qhrVfvk9yif3"
      }
    },
    {
      "cell_type": "code",
      "source": [
        "\n"
      ],
      "metadata": {
        "id": "y4KKoEGJyhw7"
      },
      "execution_count": 102,
      "outputs": []
    }
  ],
  "metadata": {
    "colab": {
      "provenance": []
    },
    "kernelspec": {
      "display_name": "tarun",
      "language": "python",
      "name": "python3"
    },
    "language_info": {
      "codemirror_mode": {
        "name": "ipython",
        "version": 3
      },
      "file_extension": ".py",
      "mimetype": "text/x-python",
      "name": "python",
      "nbconvert_exporter": "python",
      "pygments_lexer": "ipython3",
      "version": "3.8.15"
    },
    "vscode": {
      "interpreter": {
        "hash": "d43563655dd60dc0289c2a91a507a18f630277ed466b2043fe043254af750174"
      }
    }
  },
  "nbformat": 4,
  "nbformat_minor": 0
}